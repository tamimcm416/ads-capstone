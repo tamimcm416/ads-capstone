{
 "cells": [
  {
   "cell_type": "markdown",
   "metadata": {},
   "source": [
    "<p style=\"text-align:center\">\n",
    "    <a href=\"https://skills.network/?utm_medium=Exinfluencer&utm_source=Exinfluencer&utm_content=000026UJ&utm_term=10006555&utm_id=NA-SkillsNetwork-Channel-SkillsNetworkCoursesIBMDS0321ENSkillsNetwork26802033-2022-01-01\" target=\"_blank\">\n",
    "    <img src=\"https://cf-courses-data.s3.us.cloud-object-storage.appdomain.cloud/assets/logos/SN_web_lightmode.png\" width=\"200\" alt=\"Skills Network Logo\"  />\n",
    "    </a>\n",
    "</p>\n"
   ]
  },
  {
   "cell_type": "markdown",
   "metadata": {},
   "source": [
    "# **SpaceX  Falcon 9 First Stage Landing Prediction**\n"
   ]
  },
  {
   "cell_type": "markdown",
   "metadata": {},
   "source": [
    "## Assignment: Exploring and Preparing Data\n"
   ]
  },
  {
   "cell_type": "markdown",
   "metadata": {},
   "source": [
    "Estimated time needed: **70** minutes\n"
   ]
  },
  {
   "cell_type": "markdown",
   "metadata": {},
   "source": [
    "In this assignment, we will predict if the Falcon 9 first stage will land successfully. SpaceX advertises Falcon 9 rocket launches on its website with a cost of 62 million dollars; other providers cost upward of 165 million dollars each, much of the savings is due to the fact that SpaceX can reuse the first stage.\n",
    "\n",
    "In this lab, you will perform Exploratory Data Analysis and Feature Engineering.\n"
   ]
  },
  {
   "cell_type": "markdown",
   "metadata": {},
   "source": [
    "Falcon 9 first stage will land successfully\n"
   ]
  },
  {
   "cell_type": "markdown",
   "metadata": {},
   "source": [
    "![](https://cf-courses-data.s3.us.cloud-object-storage.appdomain.cloud/IBMDeveloperSkillsNetwork-DS0701EN-SkillsNetwork/api/Images/landing\\_1.gif)\n"
   ]
  },
  {
   "cell_type": "markdown",
   "metadata": {},
   "source": [
    "Several examples of an unsuccessful landing are shown here:\n"
   ]
  },
  {
   "cell_type": "markdown",
   "metadata": {},
   "source": [
    "![](https://cf-courses-data.s3.us.cloud-object-storage.appdomain.cloud/IBMDeveloperSkillsNetwork-DS0701EN-SkillsNetwork/api/Images/crash.gif)\n"
   ]
  },
  {
   "cell_type": "markdown",
   "metadata": {},
   "source": [
    "Most unsuccessful landings are planned. Space X performs a controlled landing in the oceans.\n"
   ]
  },
  {
   "cell_type": "markdown",
   "metadata": {},
   "source": [
    "## Objectives\n",
    "\n",
    "Perform exploratory Data Analysis and Feature Engineering using `Pandas` and `Matplotlib`\n",
    "\n",
    "*   Exploratory Data Analysis\n",
    "*   Preparing Data  Feature Engineering\n"
   ]
  },
  {
   "cell_type": "markdown",
   "metadata": {},
   "source": [
    "***\n"
   ]
  },
  {
   "cell_type": "markdown",
   "metadata": {},
   "source": [
    "### Import Libraries and Define Auxiliary Functions\n"
   ]
  },
  {
   "cell_type": "markdown",
   "metadata": {},
   "source": [
    "We will import the following libraries the lab\n"
   ]
  },
  {
   "cell_type": "code",
   "execution_count": 1,
   "metadata": {},
   "outputs": [],
   "source": [
    "import pandas as pd\n",
    "import numpy as np\n",
    "import matplotlib.pyplot as plt\n",
    "import seaborn as sns"
   ]
  },
  {
   "cell_type": "markdown",
   "metadata": {},
   "source": [
    "## Exploratory Data Analysis\n"
   ]
  },
  {
   "cell_type": "markdown",
   "metadata": {},
   "source": [
    "First, let's read the SpaceX dataset into a Pandas dataframe and print its summary\n"
   ]
  },
  {
   "cell_type": "code",
   "execution_count": 2,
   "metadata": {},
   "outputs": [
    {
     "data": {
      "text/html": [
       "<div>\n",
       "<style scoped>\n",
       "    .dataframe tbody tr th:only-of-type {\n",
       "        vertical-align: middle;\n",
       "    }\n",
       "\n",
       "    .dataframe tbody tr th {\n",
       "        vertical-align: top;\n",
       "    }\n",
       "\n",
       "    .dataframe thead th {\n",
       "        text-align: right;\n",
       "    }\n",
       "</style>\n",
       "<table border=\"1\" class=\"dataframe\">\n",
       "  <thead>\n",
       "    <tr style=\"text-align: right;\">\n",
       "      <th></th>\n",
       "      <th>FlightNumber</th>\n",
       "      <th>Date</th>\n",
       "      <th>BoosterVersion</th>\n",
       "      <th>PayloadMass</th>\n",
       "      <th>Orbit</th>\n",
       "      <th>LaunchSite</th>\n",
       "      <th>Outcome</th>\n",
       "      <th>Flights</th>\n",
       "      <th>GridFins</th>\n",
       "      <th>Reused</th>\n",
       "      <th>Legs</th>\n",
       "      <th>LandingPad</th>\n",
       "      <th>Block</th>\n",
       "      <th>ReusedCount</th>\n",
       "      <th>Serial</th>\n",
       "      <th>Longitude</th>\n",
       "      <th>Latitude</th>\n",
       "      <th>Class</th>\n",
       "    </tr>\n",
       "  </thead>\n",
       "  <tbody>\n",
       "    <tr>\n",
       "      <th>0</th>\n",
       "      <td>1</td>\n",
       "      <td>2010-06-04</td>\n",
       "      <td>Falcon 9</td>\n",
       "      <td>6104.959412</td>\n",
       "      <td>LEO</td>\n",
       "      <td>CCAFS SLC 40</td>\n",
       "      <td>None None</td>\n",
       "      <td>1</td>\n",
       "      <td>False</td>\n",
       "      <td>False</td>\n",
       "      <td>False</td>\n",
       "      <td>NaN</td>\n",
       "      <td>1.0</td>\n",
       "      <td>0</td>\n",
       "      <td>B0003</td>\n",
       "      <td>-80.577366</td>\n",
       "      <td>28.561857</td>\n",
       "      <td>0</td>\n",
       "    </tr>\n",
       "    <tr>\n",
       "      <th>1</th>\n",
       "      <td>2</td>\n",
       "      <td>2012-05-22</td>\n",
       "      <td>Falcon 9</td>\n",
       "      <td>525.000000</td>\n",
       "      <td>LEO</td>\n",
       "      <td>CCAFS SLC 40</td>\n",
       "      <td>None None</td>\n",
       "      <td>1</td>\n",
       "      <td>False</td>\n",
       "      <td>False</td>\n",
       "      <td>False</td>\n",
       "      <td>NaN</td>\n",
       "      <td>1.0</td>\n",
       "      <td>0</td>\n",
       "      <td>B0005</td>\n",
       "      <td>-80.577366</td>\n",
       "      <td>28.561857</td>\n",
       "      <td>0</td>\n",
       "    </tr>\n",
       "    <tr>\n",
       "      <th>2</th>\n",
       "      <td>3</td>\n",
       "      <td>2013-03-01</td>\n",
       "      <td>Falcon 9</td>\n",
       "      <td>677.000000</td>\n",
       "      <td>ISS</td>\n",
       "      <td>CCAFS SLC 40</td>\n",
       "      <td>None None</td>\n",
       "      <td>1</td>\n",
       "      <td>False</td>\n",
       "      <td>False</td>\n",
       "      <td>False</td>\n",
       "      <td>NaN</td>\n",
       "      <td>1.0</td>\n",
       "      <td>0</td>\n",
       "      <td>B0007</td>\n",
       "      <td>-80.577366</td>\n",
       "      <td>28.561857</td>\n",
       "      <td>0</td>\n",
       "    </tr>\n",
       "    <tr>\n",
       "      <th>3</th>\n",
       "      <td>4</td>\n",
       "      <td>2013-09-29</td>\n",
       "      <td>Falcon 9</td>\n",
       "      <td>500.000000</td>\n",
       "      <td>PO</td>\n",
       "      <td>VAFB SLC 4E</td>\n",
       "      <td>False Ocean</td>\n",
       "      <td>1</td>\n",
       "      <td>False</td>\n",
       "      <td>False</td>\n",
       "      <td>False</td>\n",
       "      <td>NaN</td>\n",
       "      <td>1.0</td>\n",
       "      <td>0</td>\n",
       "      <td>B1003</td>\n",
       "      <td>-120.610829</td>\n",
       "      <td>34.632093</td>\n",
       "      <td>0</td>\n",
       "    </tr>\n",
       "    <tr>\n",
       "      <th>4</th>\n",
       "      <td>5</td>\n",
       "      <td>2013-12-03</td>\n",
       "      <td>Falcon 9</td>\n",
       "      <td>3170.000000</td>\n",
       "      <td>GTO</td>\n",
       "      <td>CCAFS SLC 40</td>\n",
       "      <td>None None</td>\n",
       "      <td>1</td>\n",
       "      <td>False</td>\n",
       "      <td>False</td>\n",
       "      <td>False</td>\n",
       "      <td>NaN</td>\n",
       "      <td>1.0</td>\n",
       "      <td>0</td>\n",
       "      <td>B1004</td>\n",
       "      <td>-80.577366</td>\n",
       "      <td>28.561857</td>\n",
       "      <td>0</td>\n",
       "    </tr>\n",
       "  </tbody>\n",
       "</table>\n",
       "</div>"
      ],
      "text/plain": [
       "   FlightNumber        Date BoosterVersion  PayloadMass Orbit    LaunchSite  \\\n",
       "0             1  2010-06-04       Falcon 9  6104.959412   LEO  CCAFS SLC 40   \n",
       "1             2  2012-05-22       Falcon 9   525.000000   LEO  CCAFS SLC 40   \n",
       "2             3  2013-03-01       Falcon 9   677.000000   ISS  CCAFS SLC 40   \n",
       "3             4  2013-09-29       Falcon 9   500.000000    PO   VAFB SLC 4E   \n",
       "4             5  2013-12-03       Falcon 9  3170.000000   GTO  CCAFS SLC 40   \n",
       "\n",
       "       Outcome  Flights  GridFins  Reused   Legs LandingPad  Block  \\\n",
       "0    None None        1     False   False  False        NaN    1.0   \n",
       "1    None None        1     False   False  False        NaN    1.0   \n",
       "2    None None        1     False   False  False        NaN    1.0   \n",
       "3  False Ocean        1     False   False  False        NaN    1.0   \n",
       "4    None None        1     False   False  False        NaN    1.0   \n",
       "\n",
       "   ReusedCount Serial   Longitude   Latitude  Class  \n",
       "0            0  B0003  -80.577366  28.561857      0  \n",
       "1            0  B0005  -80.577366  28.561857      0  \n",
       "2            0  B0007  -80.577366  28.561857      0  \n",
       "3            0  B1003 -120.610829  34.632093      0  \n",
       "4            0  B1004  -80.577366  28.561857      0  "
      ]
     },
     "execution_count": 2,
     "metadata": {},
     "output_type": "execute_result"
    }
   ],
   "source": [
    "df = pd.read_csv('https://cf-courses-data.s3.us.cloud-object-storage.appdomain.cloud/IBMDeveloperSkillsNetwork-DS0701EN-SkillsNetwork/api/dataset_part_2.csv')\n",
    "df.head(5)"
   ]
  },
  {
   "cell_type": "markdown",
   "metadata": {},
   "source": [
    "First, let's try to see how the `FlightNumber` (indicating the continuous launch attempts.) and `Payload` variables would affect the launch outcome.\n",
    "\n",
    "We can plot out the <code>FlightNumber</code> vs. <code>PayloadMass</code>and overlay the outcome of the launch. We see that as the flight number increases, the first stage is more likely to land successfully. The payload mass is also important; it seems the more massive the payload, the less likely the first stage will return.\n"
   ]
  },
  {
   "cell_type": "code",
   "execution_count": 3,
   "metadata": {},
   "outputs": [
    {
     "data": {
      "image/png": "[encoded data removed]",
      "text/plain": [
       "<Figure size 1842.38x360 with 1 Axes>"
      ]
     },
     "metadata": {
      "needs_background": "light"
     },
     "output_type": "display_data"
    }
   ],
   "source": [
    "sns.catplot(y=\"PayloadMass\", x=\"FlightNumber\", hue=\"Class\", data=df, aspect = 5)\n",
    "plt.xlabel(\"Flight Number\",fontsize=20)\n",
    "plt.ylabel(\"Pay load Mass (kg)\",fontsize=20)\n",
    "plt.show()"
   ]
  },
  {
   "cell_type": "markdown",
   "metadata": {},
   "source": [
    "We see that different launch sites have different success rates.  <code>CCAFS LC-40</code>, has a success rate of 60 %, while  <code>KSC LC-39A</code> and <code>VAFB SLC 4E</code> has a success rate of 77%.\n"
   ]
  },
  {
   "cell_type": "markdown",
   "metadata": {},
   "source": [
    "Next, let's drill down to each site visualize its detailed launch records.\n"
   ]
  },
  {
   "cell_type": "markdown",
   "metadata": {},
   "source": [
    "### TASK 1: Visualize the relationship between Flight Number and Launch Site\n"
   ]
  },
  {
   "cell_type": "markdown",
   "metadata": {},
   "source": [
    "Use the function <code>catplot</code> to plot <code>FlightNumber</code> vs <code>LaunchSite</code>, set the  parameter <code>x</code>  parameter to <code>FlightNumber</code>,set the  <code>y</code> to <code>Launch Site</code> and set the parameter <code>hue</code> to <code>'class'</code>\n"
   ]
  },
  {
   "cell_type": "code",
   "execution_count": 4,
   "metadata": {},
   "outputs": [
    {
     "data": {
      "image/png": "[encoded data removed]",
      "text/plain": [
       "<Figure size 1842.38x360 with 1 Axes>"
      ]
     },
     "metadata": {
      "needs_background": "light"
     },
     "output_type": "display_data"
    }
   ],
   "source": [
    "# Plot a scatter point chart with x axis to be Flight Number and y axis to be the launch site, and hue to be the class value\n",
    "sns.catplot(y=\"LaunchSite\", x=\"FlightNumber\", hue=\"Class\", data=df, aspect = 5)\n",
    "plt.xlabel(\"Flight Number\",fontsize=20)\n",
    "plt.ylabel(\"Launch Site\",fontsize=20)\n",
    "plt.show()"
   ]
  },
  {
   "cell_type": "markdown",
   "metadata": {},
   "source": [
    "Now try to explain the patterns you found in the Flight Number vs. Launch Site scatter point plots.\n"
   ]
  },
  {
   "cell_type": "markdown",
   "metadata": {},
   "source": [
    "### TASK 2: Visualize the relationship between Payload and Launch Site\n"
   ]
  },
  {
   "cell_type": "markdown",
   "metadata": {},
   "source": [
    "We also want to observe if there is any relationship between launch sites and their payload mass.\n"
   ]
  },
  {
   "cell_type": "code",
   "execution_count": 5,
   "metadata": {},
   "outputs": [
    {
     "data": {
      "image/png": "[encoded data removed]",
      "text/plain": [
       "<Figure size 1842.38x360 with 1 Axes>"
      ]
     },
     "metadata": {
      "needs_background": "light"
     },
     "output_type": "display_data"
    }
   ],
   "source": [
    "# Plot a scatter point chart with x axis to be Pay Load Mass (kg) and y axis to be the launch site, and hue to be the class value\n",
    "sns.catplot(y=\"LaunchSite\", x=\"PayloadMass\", hue=\"Class\", data=df, aspect = 5)\n",
    "plt.xlabel(\"Payload Mass\",fontsize=20)\n",
    "plt.ylabel(\"Launch Site\",fontsize=20)\n",
    "plt.show()"
   ]
  },
  {
   "cell_type": "markdown",
   "metadata": {},
   "source": [
    "Now if you observe Payload Vs. Launch Site scatter point chart you will find for the VAFB-SLC  launchsite there are no  rockets  launched for  heavypayload mass(greater than 10000).\n"
   ]
  },
  {
   "cell_type": "markdown",
   "metadata": {},
   "source": [
    "### TASK  3: Visualize the relationship between success rate of each orbit type\n"
   ]
  },
  {
   "cell_type": "markdown",
   "metadata": {},
   "source": [
    "Next, we want to visually check if there are any relationship between success rate and orbit type.\n"
   ]
  },
  {
   "cell_type": "markdown",
   "metadata": {},
   "source": [
    "Let's create a `bar chart` for the sucess rate of each orbit\n"
   ]
  },
  {
   "cell_type": "code",
   "execution_count": 6,
   "metadata": {},
   "outputs": [
    {
     "data": {
      "image/png": "[encoded data removed]",
      "text/plain": [
       "<Figure size 432x288 with 1 Axes>"
      ]
     },
     "metadata": {
      "needs_background": "light"
     },
     "output_type": "display_data"
    }
   ],
   "source": [
    "# HINT use groupby method on Orbit column and get the mean of Class column\n",
    "barchart_df = df[['Orbit', 'Class']].groupby('Orbit').mean('Class')\n",
    "barchart_df.reset_index(inplace=True)\n",
    "\n",
    "sns.barplot(data=barchart_df, x='Orbit', y='Class')\n",
    "plt.xlabel('Orbit')\n",
    "plt.ylabel('Class Mean')\n",
    "plt.show()"
   ]
  },
  {
   "cell_type": "markdown",
   "metadata": {},
   "source": [
    "Analyze the ploted bar chart try to find which orbits have high sucess rate.\n"
   ]
  },
  {
   "cell_type": "markdown",
   "metadata": {},
   "source": [
    "### TASK  4: Visualize the relationship between FlightNumber and Orbit type\n"
   ]
  },
  {
   "cell_type": "markdown",
   "metadata": {},
   "source": [
    "For each orbit, we want to see if there is any relationship between FlightNumber and Orbit type.\n"
   ]
  },
  {
   "cell_type": "code",
   "execution_count": 7,
   "metadata": {},
   "outputs": [
    {
     "data": {
      "image/png": "[encoded data removed]",
      "text/plain": [
       "<Figure size 1842.38x360 with 1 Axes>"
      ]
     },
     "metadata": {
      "needs_background": "light"
     },
     "output_type": "display_data"
    }
   ],
   "source": [
    "# Plot a scatter point chart with x axis to be FlightNumber and y axis to be the Orbit, and hue to be the class value\n",
    "sns.catplot(y=\"Orbit\", x=\"FlightNumber\", hue=\"Class\", data=df, aspect = 5)\n",
    "plt.xlabel(\"Flight Number\",fontsize=20)\n",
    "plt.ylabel(\"Orbit\",fontsize=20)\n",
    "plt.show()"
   ]
  },
  {
   "cell_type": "markdown",
   "metadata": {},
   "source": [
    "You should see that in the LEO orbit the Success appears related to the number of flights; on the other hand, there seems to be no relationship between flight number when in GTO orbit.\n"
   ]
  },
  {
   "cell_type": "markdown",
   "metadata": {},
   "source": [
    "### TASK  5: Visualize the relationship between Payload and Orbit type\n"
   ]
  },
  {
   "cell_type": "markdown",
   "metadata": {},
   "source": [
    "Similarly, we can plot the Payload vs. Orbit scatter point charts to reveal the relationship between Payload and Orbit type\n"
   ]
  },
  {
   "cell_type": "code",
   "execution_count": 8,
   "metadata": {},
   "outputs": [
    {
     "data": {
      "image/png": "[encoded data removed]",
      "text/plain": [
       "<Figure size 1842.38x360 with 1 Axes>"
      ]
     },
     "metadata": {
      "needs_background": "light"
     },
     "output_type": "display_data"
    }
   ],
   "source": [
    "# Plot a scatter point chart with x axis to be Payload and y axis to be the Orbit, and hue to be the class value\n",
    "sns.catplot(y=\"Orbit\", x=\"PayloadMass\", hue=\"Class\", data=df, aspect = 5)\n",
    "plt.xlabel(\"Payload Mass\",fontsize=20)\n",
    "plt.ylabel(\"Orbit\",fontsize=20)\n",
    "plt.show()"
   ]
  },
  {
   "cell_type": "markdown",
   "metadata": {},
   "source": [
    "With heavy payloads the successful landing or positive landing rate are more for Polar,LEO and ISS.\n",
    "\n",
    "However for GTO we cannot distinguish this well as both positive landing rate and negative landing(unsuccessful mission) are both there here.\n"
   ]
  },
  {
   "cell_type": "markdown",
   "metadata": {},
   "source": [
    "### TASK  6: Visualize the launch success yearly trend\n"
   ]
  },
  {
   "cell_type": "markdown",
   "metadata": {},
   "source": [
    "You can plot a line chart with x axis to be <code>Year</code> and y axis to be average success rate, to get the average launch success trend.\n"
   ]
  },
  {
   "cell_type": "markdown",
   "metadata": {},
   "source": [
    "The function will help you get the year from the date:\n"
   ]
  },
  {
   "cell_type": "code",
   "execution_count": 9,
   "metadata": {},
   "outputs": [],
   "source": [
    "# A function to Extract years from the date \n",
    "year=[]\n",
    "def Extract_year(date):\n",
    "    for i in df[\"Date\"]:\n",
    "        year.append(i.split(\"-\")[0])\n",
    "    return year"
   ]
  },
  {
   "cell_type": "code",
   "execution_count": 10,
   "metadata": {},
   "outputs": [
    {
     "data": {
      "text/html": [
       "<div>\n",
       "<style scoped>\n",
       "    .dataframe tbody tr th:only-of-type {\n",
       "        vertical-align: middle;\n",
       "    }\n",
       "\n",
       "    .dataframe tbody tr th {\n",
       "        vertical-align: top;\n",
       "    }\n",
       "\n",
       "    .dataframe thead th {\n",
       "        text-align: right;\n",
       "    }\n",
       "</style>\n",
       "<table border=\"1\" class=\"dataframe\">\n",
       "  <thead>\n",
       "    <tr style=\"text-align: right;\">\n",
       "      <th></th>\n",
       "      <th>FlightNumber</th>\n",
       "      <th>Date</th>\n",
       "      <th>BoosterVersion</th>\n",
       "      <th>PayloadMass</th>\n",
       "      <th>Orbit</th>\n",
       "      <th>LaunchSite</th>\n",
       "      <th>Outcome</th>\n",
       "      <th>Flights</th>\n",
       "      <th>GridFins</th>\n",
       "      <th>Reused</th>\n",
       "      <th>Legs</th>\n",
       "      <th>LandingPad</th>\n",
       "      <th>Block</th>\n",
       "      <th>ReusedCount</th>\n",
       "      <th>Serial</th>\n",
       "      <th>Longitude</th>\n",
       "      <th>Latitude</th>\n",
       "      <th>Class</th>\n",
       "    </tr>\n",
       "  </thead>\n",
       "  <tbody>\n",
       "    <tr>\n",
       "      <th>0</th>\n",
       "      <td>1</td>\n",
       "      <td>2010-06-04</td>\n",
       "      <td>Falcon 9</td>\n",
       "      <td>6104.959412</td>\n",
       "      <td>LEO</td>\n",
       "      <td>CCAFS SLC 40</td>\n",
       "      <td>None None</td>\n",
       "      <td>1</td>\n",
       "      <td>False</td>\n",
       "      <td>False</td>\n",
       "      <td>False</td>\n",
       "      <td>NaN</td>\n",
       "      <td>1.0</td>\n",
       "      <td>0</td>\n",
       "      <td>B0003</td>\n",
       "      <td>-80.577366</td>\n",
       "      <td>28.561857</td>\n",
       "      <td>0</td>\n",
       "    </tr>\n",
       "    <tr>\n",
       "      <th>1</th>\n",
       "      <td>2</td>\n",
       "      <td>2012-05-22</td>\n",
       "      <td>Falcon 9</td>\n",
       "      <td>525.000000</td>\n",
       "      <td>LEO</td>\n",
       "      <td>CCAFS SLC 40</td>\n",
       "      <td>None None</td>\n",
       "      <td>1</td>\n",
       "      <td>False</td>\n",
       "      <td>False</td>\n",
       "      <td>False</td>\n",
       "      <td>NaN</td>\n",
       "      <td>1.0</td>\n",
       "      <td>0</td>\n",
       "      <td>B0005</td>\n",
       "      <td>-80.577366</td>\n",
       "      <td>28.561857</td>\n",
       "      <td>0</td>\n",
       "    </tr>\n",
       "    <tr>\n",
       "      <th>2</th>\n",
       "      <td>3</td>\n",
       "      <td>2013-03-01</td>\n",
       "      <td>Falcon 9</td>\n",
       "      <td>677.000000</td>\n",
       "      <td>ISS</td>\n",
       "      <td>CCAFS SLC 40</td>\n",
       "      <td>None None</td>\n",
       "      <td>1</td>\n",
       "      <td>False</td>\n",
       "      <td>False</td>\n",
       "      <td>False</td>\n",
       "      <td>NaN</td>\n",
       "      <td>1.0</td>\n",
       "      <td>0</td>\n",
       "      <td>B0007</td>\n",
       "      <td>-80.577366</td>\n",
       "      <td>28.561857</td>\n",
       "      <td>0</td>\n",
       "    </tr>\n",
       "    <tr>\n",
       "      <th>3</th>\n",
       "      <td>4</td>\n",
       "      <td>2013-09-29</td>\n",
       "      <td>Falcon 9</td>\n",
       "      <td>500.000000</td>\n",
       "      <td>PO</td>\n",
       "      <td>VAFB SLC 4E</td>\n",
       "      <td>False Ocean</td>\n",
       "      <td>1</td>\n",
       "      <td>False</td>\n",
       "      <td>False</td>\n",
       "      <td>False</td>\n",
       "      <td>NaN</td>\n",
       "      <td>1.0</td>\n",
       "      <td>0</td>\n",
       "      <td>B1003</td>\n",
       "      <td>-120.610829</td>\n",
       "      <td>34.632093</td>\n",
       "      <td>0</td>\n",
       "    </tr>\n",
       "    <tr>\n",
       "      <th>4</th>\n",
       "      <td>5</td>\n",
       "      <td>2013-12-03</td>\n",
       "      <td>Falcon 9</td>\n",
       "      <td>3170.000000</td>\n",
       "      <td>GTO</td>\n",
       "      <td>CCAFS SLC 40</td>\n",
       "      <td>None None</td>\n",
       "      <td>1</td>\n",
       "      <td>False</td>\n",
       "      <td>False</td>\n",
       "      <td>False</td>\n",
       "      <td>NaN</td>\n",
       "      <td>1.0</td>\n",
       "      <td>0</td>\n",
       "      <td>B1004</td>\n",
       "      <td>-80.577366</td>\n",
       "      <td>28.561857</td>\n",
       "      <td>0</td>\n",
       "    </tr>\n",
       "    <tr>\n",
       "      <th>...</th>\n",
       "      <td>...</td>\n",
       "      <td>...</td>\n",
       "      <td>...</td>\n",
       "      <td>...</td>\n",
       "      <td>...</td>\n",
       "      <td>...</td>\n",
       "      <td>...</td>\n",
       "      <td>...</td>\n",
       "      <td>...</td>\n",
       "      <td>...</td>\n",
       "      <td>...</td>\n",
       "      <td>...</td>\n",
       "      <td>...</td>\n",
       "      <td>...</td>\n",
       "      <td>...</td>\n",
       "      <td>...</td>\n",
       "      <td>...</td>\n",
       "      <td>...</td>\n",
       "    </tr>\n",
       "    <tr>\n",
       "      <th>85</th>\n",
       "      <td>86</td>\n",
       "      <td>2020-09-03</td>\n",
       "      <td>Falcon 9</td>\n",
       "      <td>15400.000000</td>\n",
       "      <td>VLEO</td>\n",
       "      <td>KSC LC 39A</td>\n",
       "      <td>True ASDS</td>\n",
       "      <td>2</td>\n",
       "      <td>True</td>\n",
       "      <td>True</td>\n",
       "      <td>True</td>\n",
       "      <td>5e9e3032383ecb6bb234e7ca</td>\n",
       "      <td>5.0</td>\n",
       "      <td>2</td>\n",
       "      <td>B1060</td>\n",
       "      <td>-80.603956</td>\n",
       "      <td>28.608058</td>\n",
       "      <td>1</td>\n",
       "    </tr>\n",
       "    <tr>\n",
       "      <th>86</th>\n",
       "      <td>87</td>\n",
       "      <td>2020-10-06</td>\n",
       "      <td>Falcon 9</td>\n",
       "      <td>15400.000000</td>\n",
       "      <td>VLEO</td>\n",
       "      <td>KSC LC 39A</td>\n",
       "      <td>True ASDS</td>\n",
       "      <td>3</td>\n",
       "      <td>True</td>\n",
       "      <td>True</td>\n",
       "      <td>True</td>\n",
       "      <td>5e9e3032383ecb6bb234e7ca</td>\n",
       "      <td>5.0</td>\n",
       "      <td>2</td>\n",
       "      <td>B1058</td>\n",
       "      <td>-80.603956</td>\n",
       "      <td>28.608058</td>\n",
       "      <td>1</td>\n",
       "    </tr>\n",
       "    <tr>\n",
       "      <th>87</th>\n",
       "      <td>88</td>\n",
       "      <td>2020-10-18</td>\n",
       "      <td>Falcon 9</td>\n",
       "      <td>15400.000000</td>\n",
       "      <td>VLEO</td>\n",
       "      <td>KSC LC 39A</td>\n",
       "      <td>True ASDS</td>\n",
       "      <td>6</td>\n",
       "      <td>True</td>\n",
       "      <td>True</td>\n",
       "      <td>True</td>\n",
       "      <td>5e9e3032383ecb6bb234e7ca</td>\n",
       "      <td>5.0</td>\n",
       "      <td>5</td>\n",
       "      <td>B1051</td>\n",
       "      <td>-80.603956</td>\n",
       "      <td>28.608058</td>\n",
       "      <td>1</td>\n",
       "    </tr>\n",
       "    <tr>\n",
       "      <th>88</th>\n",
       "      <td>89</td>\n",
       "      <td>2020-10-24</td>\n",
       "      <td>Falcon 9</td>\n",
       "      <td>15400.000000</td>\n",
       "      <td>VLEO</td>\n",
       "      <td>CCAFS SLC 40</td>\n",
       "      <td>True ASDS</td>\n",
       "      <td>3</td>\n",
       "      <td>True</td>\n",
       "      <td>True</td>\n",
       "      <td>True</td>\n",
       "      <td>5e9e3033383ecbb9e534e7cc</td>\n",
       "      <td>5.0</td>\n",
       "      <td>2</td>\n",
       "      <td>B1060</td>\n",
       "      <td>-80.577366</td>\n",
       "      <td>28.561857</td>\n",
       "      <td>1</td>\n",
       "    </tr>\n",
       "    <tr>\n",
       "      <th>89</th>\n",
       "      <td>90</td>\n",
       "      <td>2020-11-05</td>\n",
       "      <td>Falcon 9</td>\n",
       "      <td>3681.000000</td>\n",
       "      <td>MEO</td>\n",
       "      <td>CCAFS SLC 40</td>\n",
       "      <td>True ASDS</td>\n",
       "      <td>1</td>\n",
       "      <td>True</td>\n",
       "      <td>False</td>\n",
       "      <td>True</td>\n",
       "      <td>5e9e3032383ecb6bb234e7ca</td>\n",
       "      <td>5.0</td>\n",
       "      <td>0</td>\n",
       "      <td>B1062</td>\n",
       "      <td>-80.577366</td>\n",
       "      <td>28.561857</td>\n",
       "      <td>1</td>\n",
       "    </tr>\n",
       "  </tbody>\n",
       "</table>\n",
       "<p>90 rows × 18 columns</p>\n",
       "</div>"
      ],
      "text/plain": [
       "    FlightNumber        Date BoosterVersion   PayloadMass Orbit    LaunchSite  \\\n",
       "0              1  2010-06-04       Falcon 9   6104.959412   LEO  CCAFS SLC 40   \n",
       "1              2  2012-05-22       Falcon 9    525.000000   LEO  CCAFS SLC 40   \n",
       "2              3  2013-03-01       Falcon 9    677.000000   ISS  CCAFS SLC 40   \n",
       "3              4  2013-09-29       Falcon 9    500.000000    PO   VAFB SLC 4E   \n",
       "4              5  2013-12-03       Falcon 9   3170.000000   GTO  CCAFS SLC 40   \n",
       "..           ...         ...            ...           ...   ...           ...   \n",
       "85            86  2020-09-03       Falcon 9  15400.000000  VLEO    KSC LC 39A   \n",
       "86            87  2020-10-06       Falcon 9  15400.000000  VLEO    KSC LC 39A   \n",
       "87            88  2020-10-18       Falcon 9  15400.000000  VLEO    KSC LC 39A   \n",
       "88            89  2020-10-24       Falcon 9  15400.000000  VLEO  CCAFS SLC 40   \n",
       "89            90  2020-11-05       Falcon 9   3681.000000   MEO  CCAFS SLC 40   \n",
       "\n",
       "        Outcome  Flights  GridFins  Reused   Legs                LandingPad  \\\n",
       "0     None None        1     False   False  False                       NaN   \n",
       "1     None None        1     False   False  False                       NaN   \n",
       "2     None None        1     False   False  False                       NaN   \n",
       "3   False Ocean        1     False   False  False                       NaN   \n",
       "4     None None        1     False   False  False                       NaN   \n",
       "..          ...      ...       ...     ...    ...                       ...   \n",
       "85    True ASDS        2      True    True   True  5e9e3032383ecb6bb234e7ca   \n",
       "86    True ASDS        3      True    True   True  5e9e3032383ecb6bb234e7ca   \n",
       "87    True ASDS        6      True    True   True  5e9e3032383ecb6bb234e7ca   \n",
       "88    True ASDS        3      True    True   True  5e9e3033383ecbb9e534e7cc   \n",
       "89    True ASDS        1      True   False   True  5e9e3032383ecb6bb234e7ca   \n",
       "\n",
       "    Block  ReusedCount Serial   Longitude   Latitude  Class  \n",
       "0     1.0            0  B0003  -80.577366  28.561857      0  \n",
       "1     1.0            0  B0005  -80.577366  28.561857      0  \n",
       "2     1.0            0  B0007  -80.577366  28.561857      0  \n",
       "3     1.0            0  B1003 -120.610829  34.632093      0  \n",
       "4     1.0            0  B1004  -80.577366  28.561857      0  \n",
       "..    ...          ...    ...         ...        ...    ...  \n",
       "85    5.0            2  B1060  -80.603956  28.608058      1  \n",
       "86    5.0            2  B1058  -80.603956  28.608058      1  \n",
       "87    5.0            5  B1051  -80.603956  28.608058      1  \n",
       "88    5.0            2  B1060  -80.577366  28.561857      1  \n",
       "89    5.0            0  B1062  -80.577366  28.561857      1  \n",
       "\n",
       "[90 rows x 18 columns]"
      ]
     },
     "execution_count": 10,
     "metadata": {},
     "output_type": "execute_result"
    }
   ],
   "source": [
    "df"
   ]
  },
  {
   "cell_type": "code",
   "execution_count": 11,
   "metadata": {},
   "outputs": [
    {
     "data": {
      "image/png": "[encoded data removed]",
      "text/plain": [
       "<Figure size 432x288 with 1 Axes>"
      ]
     },
     "metadata": {
      "needs_background": "light"
     },
     "output_type": "display_data"
    }
   ],
   "source": [
    "# Plot a line chart with x axis to be the extracted year and y axis to be the success rate\n",
    "linechart_df = pd.DataFrame(Extract_year(df['Date']), df['Class'])\n",
    "linechart_df.reset_index(inplace=True)\n",
    "linechart_df.columns = ['Class', 'Year']\n",
    "linechart_df = linechart_df.groupby('Year').mean('Class')\n",
    "linechart_df\n",
    "\n",
    "sns.lineplot(x='Year', y='Class', data=linechart_df)\n",
    "plt.xlabel = 'Year'\n",
    "plt.ylabel = 'Class Mean'\n",
    "plt.show()"
   ]
  },
  {
   "cell_type": "markdown",
   "metadata": {},
   "source": [
    "you can observe that the sucess rate since 2013 kept increasing till 2020\n"
   ]
  },
  {
   "cell_type": "markdown",
   "metadata": {},
   "source": [
    "## Features Engineering\n"
   ]
  },
  {
   "cell_type": "markdown",
   "metadata": {},
   "source": [
    "By now, you should obtain some preliminary insights about how each important variable would affect the success rate, we will select the features that will be used in success prediction in the future module.\n"
   ]
  },
  {
   "cell_type": "code",
   "execution_count": 12,
   "metadata": {},
   "outputs": [
    {
     "data": {
      "text/html": [
       "<div>\n",
       "<style scoped>\n",
       "    .dataframe tbody tr th:only-of-type {\n",
       "        vertical-align: middle;\n",
       "    }\n",
       "\n",
       "    .dataframe tbody tr th {\n",
       "        vertical-align: top;\n",
       "    }\n",
       "\n",
       "    .dataframe thead th {\n",
       "        text-align: right;\n",
       "    }\n",
       "</style>\n",
       "<table border=\"1\" class=\"dataframe\">\n",
       "  <thead>\n",
       "    <tr style=\"text-align: right;\">\n",
       "      <th></th>\n",
       "      <th>FlightNumber</th>\n",
       "      <th>PayloadMass</th>\n",
       "      <th>Orbit</th>\n",
       "      <th>LaunchSite</th>\n",
       "      <th>Flights</th>\n",
       "      <th>GridFins</th>\n",
       "      <th>Reused</th>\n",
       "      <th>Legs</th>\n",
       "      <th>LandingPad</th>\n",
       "      <th>Block</th>\n",
       "      <th>ReusedCount</th>\n",
       "      <th>Serial</th>\n",
       "    </tr>\n",
       "  </thead>\n",
       "  <tbody>\n",
       "    <tr>\n",
       "      <th>0</th>\n",
       "      <td>1</td>\n",
       "      <td>6104.959412</td>\n",
       "      <td>LEO</td>\n",
       "      <td>CCAFS SLC 40</td>\n",
       "      <td>1</td>\n",
       "      <td>False</td>\n",
       "      <td>False</td>\n",
       "      <td>False</td>\n",
       "      <td>NaN</td>\n",
       "      <td>1.0</td>\n",
       "      <td>0</td>\n",
       "      <td>B0003</td>\n",
       "    </tr>\n",
       "    <tr>\n",
       "      <th>1</th>\n",
       "      <td>2</td>\n",
       "      <td>525.000000</td>\n",
       "      <td>LEO</td>\n",
       "      <td>CCAFS SLC 40</td>\n",
       "      <td>1</td>\n",
       "      <td>False</td>\n",
       "      <td>False</td>\n",
       "      <td>False</td>\n",
       "      <td>NaN</td>\n",
       "      <td>1.0</td>\n",
       "      <td>0</td>\n",
       "      <td>B0005</td>\n",
       "    </tr>\n",
       "    <tr>\n",
       "      <th>2</th>\n",
       "      <td>3</td>\n",
       "      <td>677.000000</td>\n",
       "      <td>ISS</td>\n",
       "      <td>CCAFS SLC 40</td>\n",
       "      <td>1</td>\n",
       "      <td>False</td>\n",
       "      <td>False</td>\n",
       "      <td>False</td>\n",
       "      <td>NaN</td>\n",
       "      <td>1.0</td>\n",
       "      <td>0</td>\n",
       "      <td>B0007</td>\n",
       "    </tr>\n",
       "    <tr>\n",
       "      <th>3</th>\n",
       "      <td>4</td>\n",
       "      <td>500.000000</td>\n",
       "      <td>PO</td>\n",
       "      <td>VAFB SLC 4E</td>\n",
       "      <td>1</td>\n",
       "      <td>False</td>\n",
       "      <td>False</td>\n",
       "      <td>False</td>\n",
       "      <td>NaN</td>\n",
       "      <td>1.0</td>\n",
       "      <td>0</td>\n",
       "      <td>B1003</td>\n",
       "    </tr>\n",
       "    <tr>\n",
       "      <th>4</th>\n",
       "      <td>5</td>\n",
       "      <td>3170.000000</td>\n",
       "      <td>GTO</td>\n",
       "      <td>CCAFS SLC 40</td>\n",
       "      <td>1</td>\n",
       "      <td>False</td>\n",
       "      <td>False</td>\n",
       "      <td>False</td>\n",
       "      <td>NaN</td>\n",
       "      <td>1.0</td>\n",
       "      <td>0</td>\n",
       "      <td>B1004</td>\n",
       "    </tr>\n",
       "  </tbody>\n",
       "</table>\n",
       "</div>"
      ],
      "text/plain": [
       "   FlightNumber  PayloadMass Orbit    LaunchSite  Flights  GridFins  Reused  \\\n",
       "0             1  6104.959412   LEO  CCAFS SLC 40        1     False   False   \n",
       "1             2   525.000000   LEO  CCAFS SLC 40        1     False   False   \n",
       "2             3   677.000000   ISS  CCAFS SLC 40        1     False   False   \n",
       "3             4   500.000000    PO   VAFB SLC 4E        1     False   False   \n",
       "4             5  3170.000000   GTO  CCAFS SLC 40        1     False   False   \n",
       "\n",
       "    Legs LandingPad  Block  ReusedCount Serial  \n",
       "0  False        NaN    1.0            0  B0003  \n",
       "1  False        NaN    1.0            0  B0005  \n",
       "2  False        NaN    1.0            0  B0007  \n",
       "3  False        NaN    1.0            0  B1003  \n",
       "4  False        NaN    1.0            0  B1004  "
      ]
     },
     "execution_count": 12,
     "metadata": {},
     "output_type": "execute_result"
    }
   ],
   "source": [
    "features = df[['FlightNumber', 'PayloadMass', 'Orbit', 'LaunchSite', 'Flights', 'GridFins', 'Reused', 'Legs', 'LandingPad', 'Block', 'ReusedCount', 'Serial']]\n",
    "features.head()"
   ]
  },
  {
   "cell_type": "markdown",
   "metadata": {},
   "source": [
    "### TASK  7: Create dummy variables to categorical columns\n"
   ]
  },
  {
   "cell_type": "markdown",
   "metadata": {},
   "source": [
    "Use the function <code>get_dummies</code> and <code>features</code> dataframe to apply OneHotEncoder to the column <code>Orbits</code>, <code>LaunchSite</code>, <code>LandingPad</code>, and <code>Serial</code>. Assign the value to the variable <code>features_one_hot</code>, display the results using the method head. Your result dataframe must include all features including the encoded ones.\n"
   ]
  },
  {
   "cell_type": "code",
   "execution_count": 13,
   "metadata": {},
   "outputs": [
    {
     "data": {
      "text/html": [
       "<div>\n",
       "<style scoped>\n",
       "    .dataframe tbody tr th:only-of-type {\n",
       "        vertical-align: middle;\n",
       "    }\n",
       "\n",
       "    .dataframe tbody tr th {\n",
       "        vertical-align: top;\n",
       "    }\n",
       "\n",
       "    .dataframe thead th {\n",
       "        text-align: right;\n",
       "    }\n",
       "</style>\n",
       "<table border=\"1\" class=\"dataframe\">\n",
       "  <thead>\n",
       "    <tr style=\"text-align: right;\">\n",
       "      <th></th>\n",
       "      <th>FlightNumber</th>\n",
       "      <th>PayloadMass</th>\n",
       "      <th>Flights</th>\n",
       "      <th>GridFins</th>\n",
       "      <th>Reused</th>\n",
       "      <th>Legs</th>\n",
       "      <th>Block</th>\n",
       "      <th>ReusedCount</th>\n",
       "      <th>Orbit_ES-L1</th>\n",
       "      <th>Orbit_GEO</th>\n",
       "      <th>...</th>\n",
       "      <th>Serial_B1048</th>\n",
       "      <th>Serial_B1049</th>\n",
       "      <th>Serial_B1050</th>\n",
       "      <th>Serial_B1051</th>\n",
       "      <th>Serial_B1054</th>\n",
       "      <th>Serial_B1056</th>\n",
       "      <th>Serial_B1058</th>\n",
       "      <th>Serial_B1059</th>\n",
       "      <th>Serial_B1060</th>\n",
       "      <th>Serial_B1062</th>\n",
       "    </tr>\n",
       "  </thead>\n",
       "  <tbody>\n",
       "    <tr>\n",
       "      <th>0</th>\n",
       "      <td>1</td>\n",
       "      <td>6104.959412</td>\n",
       "      <td>1</td>\n",
       "      <td>False</td>\n",
       "      <td>False</td>\n",
       "      <td>False</td>\n",
       "      <td>1.0</td>\n",
       "      <td>0</td>\n",
       "      <td>0</td>\n",
       "      <td>0</td>\n",
       "      <td>...</td>\n",
       "      <td>0</td>\n",
       "      <td>0</td>\n",
       "      <td>0</td>\n",
       "      <td>0</td>\n",
       "      <td>0</td>\n",
       "      <td>0</td>\n",
       "      <td>0</td>\n",
       "      <td>0</td>\n",
       "      <td>0</td>\n",
       "      <td>0</td>\n",
       "    </tr>\n",
       "    <tr>\n",
       "      <th>1</th>\n",
       "      <td>2</td>\n",
       "      <td>525.000000</td>\n",
       "      <td>1</td>\n",
       "      <td>False</td>\n",
       "      <td>False</td>\n",
       "      <td>False</td>\n",
       "      <td>1.0</td>\n",
       "      <td>0</td>\n",
       "      <td>0</td>\n",
       "      <td>0</td>\n",
       "      <td>...</td>\n",
       "      <td>0</td>\n",
       "      <td>0</td>\n",
       "      <td>0</td>\n",
       "      <td>0</td>\n",
       "      <td>0</td>\n",
       "      <td>0</td>\n",
       "      <td>0</td>\n",
       "      <td>0</td>\n",
       "      <td>0</td>\n",
       "      <td>0</td>\n",
       "    </tr>\n",
       "    <tr>\n",
       "      <th>2</th>\n",
       "      <td>3</td>\n",
       "      <td>677.000000</td>\n",
       "      <td>1</td>\n",
       "      <td>False</td>\n",
       "      <td>False</td>\n",
       "      <td>False</td>\n",
       "      <td>1.0</td>\n",
       "      <td>0</td>\n",
       "      <td>0</td>\n",
       "      <td>0</td>\n",
       "      <td>...</td>\n",
       "      <td>0</td>\n",
       "      <td>0</td>\n",
       "      <td>0</td>\n",
       "      <td>0</td>\n",
       "      <td>0</td>\n",
       "      <td>0</td>\n",
       "      <td>0</td>\n",
       "      <td>0</td>\n",
       "      <td>0</td>\n",
       "      <td>0</td>\n",
       "    </tr>\n",
       "    <tr>\n",
       "      <th>3</th>\n",
       "      <td>4</td>\n",
       "      <td>500.000000</td>\n",
       "      <td>1</td>\n",
       "      <td>False</td>\n",
       "      <td>False</td>\n",
       "      <td>False</td>\n",
       "      <td>1.0</td>\n",
       "      <td>0</td>\n",
       "      <td>0</td>\n",
       "      <td>0</td>\n",
       "      <td>...</td>\n",
       "      <td>0</td>\n",
       "      <td>0</td>\n",
       "      <td>0</td>\n",
       "      <td>0</td>\n",
       "      <td>0</td>\n",
       "      <td>0</td>\n",
       "      <td>0</td>\n",
       "      <td>0</td>\n",
       "      <td>0</td>\n",
       "      <td>0</td>\n",
       "    </tr>\n",
       "    <tr>\n",
       "      <th>4</th>\n",
       "      <td>5</td>\n",
       "      <td>3170.000000</td>\n",
       "      <td>1</td>\n",
       "      <td>False</td>\n",
       "      <td>False</td>\n",
       "      <td>False</td>\n",
       "      <td>1.0</td>\n",
       "      <td>0</td>\n",
       "      <td>0</td>\n",
       "      <td>0</td>\n",
       "      <td>...</td>\n",
       "      <td>0</td>\n",
       "      <td>0</td>\n",
       "      <td>0</td>\n",
       "      <td>0</td>\n",
       "      <td>0</td>\n",
       "      <td>0</td>\n",
       "      <td>0</td>\n",
       "      <td>0</td>\n",
       "      <td>0</td>\n",
       "      <td>0</td>\n",
       "    </tr>\n",
       "  </tbody>\n",
       "</table>\n",
       "<p>5 rows × 80 columns</p>\n",
       "</div>"
      ],
      "text/plain": [
       "   FlightNumber  PayloadMass  Flights  GridFins  Reused   Legs  Block  \\\n",
       "0             1  6104.959412        1     False   False  False    1.0   \n",
       "1             2   525.000000        1     False   False  False    1.0   \n",
       "2             3   677.000000        1     False   False  False    1.0   \n",
       "3             4   500.000000        1     False   False  False    1.0   \n",
       "4             5  3170.000000        1     False   False  False    1.0   \n",
       "\n",
       "   ReusedCount  Orbit_ES-L1  Orbit_GEO  ...  Serial_B1048  Serial_B1049  \\\n",
       "0            0            0          0  ...             0             0   \n",
       "1            0            0          0  ...             0             0   \n",
       "2            0            0          0  ...             0             0   \n",
       "3            0            0          0  ...             0             0   \n",
       "4            0            0          0  ...             0             0   \n",
       "\n",
       "   Serial_B1050  Serial_B1051  Serial_B1054  Serial_B1056  Serial_B1058  \\\n",
       "0             0             0             0             0             0   \n",
       "1             0             0             0             0             0   \n",
       "2             0             0             0             0             0   \n",
       "3             0             0             0             0             0   \n",
       "4             0             0             0             0             0   \n",
       "\n",
       "   Serial_B1059  Serial_B1060  Serial_B1062  \n",
       "0             0             0             0  \n",
       "1             0             0             0  \n",
       "2             0             0             0  \n",
       "3             0             0             0  \n",
       "4             0             0             0  \n",
       "\n",
       "[5 rows x 80 columns]"
      ]
     },
     "execution_count": 13,
     "metadata": {},
     "output_type": "execute_result"
    }
   ],
   "source": [
    "# HINT: Use get_dummies() function on the categorical columns\n",
    "features_one_hot = pd.get_dummies(features, columns=['Orbit', 'LaunchSite', 'LandingPad', 'Serial'])\n",
    "features_one_hot.head()"
   ]
  },
  {
   "cell_type": "markdown",
   "metadata": {},
   "source": [
    "### TASK  8: Cast all numeric columns to `float64`\n"
   ]
  },
  {
   "cell_type": "markdown",
   "metadata": {},
   "source": [
    "Now that our <code>features_one_hot</code> dataframe only contains numbers cast the entire dataframe to variable type <code>float64</code>\n"
   ]
  },
  {
   "cell_type": "code",
   "execution_count": 14,
   "metadata": {},
   "outputs": [
    {
     "data": {
      "text/html": [
       "<div>\n",
       "<style scoped>\n",
       "    .dataframe tbody tr th:only-of-type {\n",
       "        vertical-align: middle;\n",
       "    }\n",
       "\n",
       "    .dataframe tbody tr th {\n",
       "        vertical-align: top;\n",
       "    }\n",
       "\n",
       "    .dataframe thead th {\n",
       "        text-align: right;\n",
       "    }\n",
       "</style>\n",
       "<table border=\"1\" class=\"dataframe\">\n",
       "  <thead>\n",
       "    <tr style=\"text-align: right;\">\n",
       "      <th></th>\n",
       "      <th>FlightNumber</th>\n",
       "      <th>PayloadMass</th>\n",
       "      <th>Flights</th>\n",
       "      <th>GridFins</th>\n",
       "      <th>Reused</th>\n",
       "      <th>Legs</th>\n",
       "      <th>Block</th>\n",
       "      <th>ReusedCount</th>\n",
       "      <th>Orbit_ES-L1</th>\n",
       "      <th>Orbit_GEO</th>\n",
       "      <th>...</th>\n",
       "      <th>Serial_B1048</th>\n",
       "      <th>Serial_B1049</th>\n",
       "      <th>Serial_B1050</th>\n",
       "      <th>Serial_B1051</th>\n",
       "      <th>Serial_B1054</th>\n",
       "      <th>Serial_B1056</th>\n",
       "      <th>Serial_B1058</th>\n",
       "      <th>Serial_B1059</th>\n",
       "      <th>Serial_B1060</th>\n",
       "      <th>Serial_B1062</th>\n",
       "    </tr>\n",
       "  </thead>\n",
       "  <tbody>\n",
       "    <tr>\n",
       "      <th>0</th>\n",
       "      <td>1.0</td>\n",
       "      <td>6104.959412</td>\n",
       "      <td>1.0</td>\n",
       "      <td>0.0</td>\n",
       "      <td>0.0</td>\n",
       "      <td>0.0</td>\n",
       "      <td>1.0</td>\n",
       "      <td>0.0</td>\n",
       "      <td>0.0</td>\n",
       "      <td>0.0</td>\n",
       "      <td>...</td>\n",
       "      <td>0.0</td>\n",
       "      <td>0.0</td>\n",
       "      <td>0.0</td>\n",
       "      <td>0.0</td>\n",
       "      <td>0.0</td>\n",
       "      <td>0.0</td>\n",
       "      <td>0.0</td>\n",
       "      <td>0.0</td>\n",
       "      <td>0.0</td>\n",
       "      <td>0.0</td>\n",
       "    </tr>\n",
       "    <tr>\n",
       "      <th>1</th>\n",
       "      <td>2.0</td>\n",
       "      <td>525.000000</td>\n",
       "      <td>1.0</td>\n",
       "      <td>0.0</td>\n",
       "      <td>0.0</td>\n",
       "      <td>0.0</td>\n",
       "      <td>1.0</td>\n",
       "      <td>0.0</td>\n",
       "      <td>0.0</td>\n",
       "      <td>0.0</td>\n",
       "      <td>...</td>\n",
       "      <td>0.0</td>\n",
       "      <td>0.0</td>\n",
       "      <td>0.0</td>\n",
       "      <td>0.0</td>\n",
       "      <td>0.0</td>\n",
       "      <td>0.0</td>\n",
       "      <td>0.0</td>\n",
       "      <td>0.0</td>\n",
       "      <td>0.0</td>\n",
       "      <td>0.0</td>\n",
       "    </tr>\n",
       "    <tr>\n",
       "      <th>2</th>\n",
       "      <td>3.0</td>\n",
       "      <td>677.000000</td>\n",
       "      <td>1.0</td>\n",
       "      <td>0.0</td>\n",
       "      <td>0.0</td>\n",
       "      <td>0.0</td>\n",
       "      <td>1.0</td>\n",
       "      <td>0.0</td>\n",
       "      <td>0.0</td>\n",
       "      <td>0.0</td>\n",
       "      <td>...</td>\n",
       "      <td>0.0</td>\n",
       "      <td>0.0</td>\n",
       "      <td>0.0</td>\n",
       "      <td>0.0</td>\n",
       "      <td>0.0</td>\n",
       "      <td>0.0</td>\n",
       "      <td>0.0</td>\n",
       "      <td>0.0</td>\n",
       "      <td>0.0</td>\n",
       "      <td>0.0</td>\n",
       "    </tr>\n",
       "    <tr>\n",
       "      <th>3</th>\n",
       "      <td>4.0</td>\n",
       "      <td>500.000000</td>\n",
       "      <td>1.0</td>\n",
       "      <td>0.0</td>\n",
       "      <td>0.0</td>\n",
       "      <td>0.0</td>\n",
       "      <td>1.0</td>\n",
       "      <td>0.0</td>\n",
       "      <td>0.0</td>\n",
       "      <td>0.0</td>\n",
       "      <td>...</td>\n",
       "      <td>0.0</td>\n",
       "      <td>0.0</td>\n",
       "      <td>0.0</td>\n",
       "      <td>0.0</td>\n",
       "      <td>0.0</td>\n",
       "      <td>0.0</td>\n",
       "      <td>0.0</td>\n",
       "      <td>0.0</td>\n",
       "      <td>0.0</td>\n",
       "      <td>0.0</td>\n",
       "    </tr>\n",
       "    <tr>\n",
       "      <th>4</th>\n",
       "      <td>5.0</td>\n",
       "      <td>3170.000000</td>\n",
       "      <td>1.0</td>\n",
       "      <td>0.0</td>\n",
       "      <td>0.0</td>\n",
       "      <td>0.0</td>\n",
       "      <td>1.0</td>\n",
       "      <td>0.0</td>\n",
       "      <td>0.0</td>\n",
       "      <td>0.0</td>\n",
       "      <td>...</td>\n",
       "      <td>0.0</td>\n",
       "      <td>0.0</td>\n",
       "      <td>0.0</td>\n",
       "      <td>0.0</td>\n",
       "      <td>0.0</td>\n",
       "      <td>0.0</td>\n",
       "      <td>0.0</td>\n",
       "      <td>0.0</td>\n",
       "      <td>0.0</td>\n",
       "      <td>0.0</td>\n",
       "    </tr>\n",
       "  </tbody>\n",
       "</table>\n",
       "<p>5 rows × 80 columns</p>\n",
       "</div>"
      ],
      "text/plain": [
       "   FlightNumber  PayloadMass  Flights  GridFins  Reused  Legs  Block  \\\n",
       "0           1.0  6104.959412      1.0       0.0     0.0   0.0    1.0   \n",
       "1           2.0   525.000000      1.0       0.0     0.0   0.0    1.0   \n",
       "2           3.0   677.000000      1.0       0.0     0.0   0.0    1.0   \n",
       "3           4.0   500.000000      1.0       0.0     0.0   0.0    1.0   \n",
       "4           5.0  3170.000000      1.0       0.0     0.0   0.0    1.0   \n",
       "\n",
       "   ReusedCount  Orbit_ES-L1  Orbit_GEO  ...  Serial_B1048  Serial_B1049  \\\n",
       "0          0.0          0.0        0.0  ...           0.0           0.0   \n",
       "1          0.0          0.0        0.0  ...           0.0           0.0   \n",
       "2          0.0          0.0        0.0  ...           0.0           0.0   \n",
       "3          0.0          0.0        0.0  ...           0.0           0.0   \n",
       "4          0.0          0.0        0.0  ...           0.0           0.0   \n",
       "\n",
       "   Serial_B1050  Serial_B1051  Serial_B1054  Serial_B1056  Serial_B1058  \\\n",
       "0           0.0           0.0           0.0           0.0           0.0   \n",
       "1           0.0           0.0           0.0           0.0           0.0   \n",
       "2           0.0           0.0           0.0           0.0           0.0   \n",
       "3           0.0           0.0           0.0           0.0           0.0   \n",
       "4           0.0           0.0           0.0           0.0           0.0   \n",
       "\n",
       "   Serial_B1059  Serial_B1060  Serial_B1062  \n",
       "0           0.0           0.0           0.0  \n",
       "1           0.0           0.0           0.0  \n",
       "2           0.0           0.0           0.0  \n",
       "3           0.0           0.0           0.0  \n",
       "4           0.0           0.0           0.0  \n",
       "\n",
       "[5 rows x 80 columns]"
      ]
     },
     "execution_count": 14,
     "metadata": {},
     "output_type": "execute_result"
    }
   ],
   "source": [
    "# HINT: use astype function\n",
    "features_one_hot = features_one_hot.astype('float64') \n",
    "features_one_hot.head()"
   ]
  },
  {
   "cell_type": "markdown",
   "metadata": {},
   "source": [
    "We can now export it to a <b>CSV</b> for the next section,but to make the answers consistent, in the next lab we will provide data in a pre-selected date range.\n"
   ]
  },
  {
   "cell_type": "markdown",
   "metadata": {},
   "source": [
    "<code>features_one_hot.to_csv('dataset_part\\_3.csv', index=False)</code>\n"
   ]
  },
  {
   "cell_type": "code",
   "execution_count": 16,
   "metadata": {},
   "outputs": [
    {
     "data": {
      "text/html": [
       "<a download=\"/home/wsuser/work/dataset_eda_viz.csv\" href=\"data:text/csv;base64,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\" target=\"_blank\">Download CSV file</a>"
      ],
      "text/plain": [
       "<IPython.core.display.HTML object>"
      ]
     },
     "execution_count": 16,
     "metadata": {},
     "output_type": "execute_result"
    }
   ],
   "source": [
    "# Copied from discussion forum solution since the command listed above does not work.\n",
    "\n",
    "from IPython.display import HTML\n",
    "import base64,io\n",
    "\n",
    "def create_download_link(df, title = \"Download CSV file\", filename = \"/home/wsuser/work/dataset_eda_viz.csv\"): \n",
    " csv = df.to_csv()\n",
    " b64 = base64.b64encode(csv.encode())\n",
    " payload = b64.decode()\n",
    " html = '<a download=\"{filename}\" href=\"data:text/csv;base64,{payload}\" target=\"_blank\">{title}</a>'\n",
    " html = html.format(payload=payload,title=title,filename=filename)\n",
    " return HTML(html)\n",
    "\n",
    "create_download_link(df)"
   ]
  },
  {
   "cell_type": "markdown",
   "metadata": {},
   "source": [
    "## Authors\n"
   ]
  },
  {
   "cell_type": "markdown",
   "metadata": {},
   "source": [
    "<a href=\"https://www.linkedin.com/in/joseph-s-50398b136/?utm_medium=Exinfluencer&utm_source=Exinfluencer&utm_content=000026UJ&utm_term=10006555&utm_id=NA-SkillsNetwork-Channel-SkillsNetworkCoursesIBMDS0321ENSkillsNetwork26802033-2022-01-01\">Joseph Santarcangelo</a> has a PhD in Electrical Engineering, his research focused on using machine learning, signal processing, and computer vision to determine how videos impact human cognition. Joseph has been working for IBM since he completed his PhD.\n"
   ]
  },
  {
   "cell_type": "markdown",
   "metadata": {},
   "source": [
    "<a href=\"https://www.linkedin.com/in/nayefaboutayoun/?utm_medium=Exinfluencer&utm_source=Exinfluencer&utm_content=000026UJ&utm_term=10006555&utm_id=NA-SkillsNetwork-Channel-SkillsNetworkCoursesIBMDS0321ENSkillsNetwork26802033-2022-01-01\">Nayef Abou Tayoun</a> is a Data Scientist at IBM and pursuing a Master of Management in Artificial intelligence degree at Queen's University.\n"
   ]
  },
  {
   "cell_type": "markdown",
   "metadata": {},
   "source": [
    "## Change Log\n"
   ]
  },
  {
   "cell_type": "markdown",
   "metadata": {},
   "source": [
    "| Date (YYYY-MM-DD) | Version | Changed By    | Change Description      |\n",
    "| ----------------- | ------- | ------------- | ----------------------- |\n",
    "| 2021-10-12        | 1.1     | Lakshmi Holla | Modified markdown       |\n",
    "| 2020-09-20        | 1.0     | Joseph        | Modified Multiple Areas |\n",
    "| 2020-11-10        | 1.1     | Nayef         | updating the input data |\n"
   ]
  },
  {
   "cell_type": "markdown",
   "metadata": {},
   "source": [
    "Copyright © 2020 IBM Corporation. All rights reserved.\n"
   ]
  }
 ],
 "metadata": {
  "kernelspec": {
   "display_name": "Python 3 (ipykernel)",
   "language": "python",
   "name": "python3"
  },
  "language_info": {
   "codemirror_mode": {
    "name": "ipython",
    "version": 3
   },
   "file_extension": ".py",
   "mimetype": "text/x-python",
   "name": "python",
   "nbconvert_exporter": "python",
   "pygments_lexer": "ipython3",
   "version": "3.9.12"
  }
 },
 "nbformat": 4,
 "nbformat_minor": 4
}
