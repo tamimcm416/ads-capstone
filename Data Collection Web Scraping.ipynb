{
 "cells": [
  {
   "cell_type": "markdown",
   "metadata": {},
   "source": [
    "<p style=\"text-align:center\">\n",
    "    <a href=\"https://skills.network/?utm_medium=Exinfluencer&utm_source=Exinfluencer&utm_content=000026UJ&utm_term=10006555&utm_id=NA-SkillsNetwork-Channel-SkillsNetworkCoursesIBMDS0321ENSkillsNetwork26802033-2022-01-01\" target=\"_blank\">\n",
    "    <img src=\"https://cf-courses-data.s3.us.cloud-object-storage.appdomain.cloud/assets/logos/SN_web_lightmode.png\" width=\"200\" alt=\"Skills Network Logo\"  />\n",
    "    </a>\n",
    "</p>\n"
   ]
  },
  {
   "cell_type": "markdown",
   "metadata": {},
   "source": [
    "# **Space X  Falcon 9 First Stage Landing Prediction**\n"
   ]
  },
  {
   "cell_type": "markdown",
   "metadata": {},
   "source": [
    "## Web scraping Falcon 9 and Falcon Heavy Launches Records from Wikipedia\n"
   ]
  },
  {
   "cell_type": "markdown",
   "metadata": {},
   "source": [
    "Estimated time needed: **40** minutes\n"
   ]
  },
  {
   "cell_type": "markdown",
   "metadata": {},
   "source": [
    "In this lab, you will be performing web scraping to collect Falcon 9 historical launch records from a Wikipedia page titled `List of Falcon 9 and Falcon Heavy launches`\n",
    "\n",
    "[https://en.wikipedia.org/wiki/List_of_Falcon\\_9\\_and_Falcon_Heavy_launches](https://en.wikipedia.org/wiki/List_of_Falcon\\_9\\_and_Falcon_Heavy_launches?utm_medium=Exinfluencer&utm_source=Exinfluencer&utm_content=000026UJ&utm_term=10006555&utm_id=NA-SkillsNetwork-Channel-SkillsNetworkCoursesIBMDS0321ENSkillsNetwork26802033-2022-01-01)\n"
   ]
  },
  {
   "cell_type": "markdown",
   "metadata": {},
   "source": [
    "![](https://cf-courses-data.s3.us.cloud-object-storage.appdomain.cloud/IBM-DS0321EN-SkillsNetwork/labs/module\\_1\\_L2/images/Falcon9\\_rocket_family.svg)\n"
   ]
  },
  {
   "cell_type": "markdown",
   "metadata": {},
   "source": [
    "Falcon 9 first stage will land successfully\n"
   ]
  },
  {
   "cell_type": "markdown",
   "metadata": {},
   "source": [
    "![](https://cf-courses-data.s3.us.cloud-object-storage.appdomain.cloud/IBMDeveloperSkillsNetwork-DS0701EN-SkillsNetwork/api/Images/landing\\_1.gif)\n"
   ]
  },
  {
   "cell_type": "markdown",
   "metadata": {},
   "source": [
    "Several examples of an unsuccessful landing are shown here:\n"
   ]
  },
  {
   "cell_type": "markdown",
   "metadata": {},
   "source": [
    "![](https://cf-courses-data.s3.us.cloud-object-storage.appdomain.cloud/IBMDeveloperSkillsNetwork-DS0701EN-SkillsNetwork/api/Images/crash.gif)\n"
   ]
  },
  {
   "cell_type": "markdown",
   "metadata": {},
   "source": [
    "More specifically, the launch records are stored in a HTML table shown below:\n"
   ]
  },
  {
   "cell_type": "markdown",
   "metadata": {},
   "source": [
    "![](https://cf-courses-data.s3.us.cloud-object-storage.appdomain.cloud/IBM-DS0321EN-SkillsNetwork/labs/module\\_1\\_L2/images/falcon9-launches-wiki.png)\n"
   ]
  },
  {
   "cell_type": "markdown",
   "metadata": {},
   "source": [
    "## Objectives\n",
    "\n",
    "Web scrap Falcon 9 launch records with `BeautifulSoup`:\n",
    "\n",
    "*   Extract a Falcon 9 launch records HTML table from Wikipedia\n",
    "*   Parse the table and convert it into a Pandas data frame\n"
   ]
  },
  {
   "cell_type": "markdown",
   "metadata": {},
   "source": [
    "First let's import required packages for this lab\n"
   ]
  },
  {
   "cell_type": "code",
   "execution_count": 1,
   "metadata": {},
   "outputs": [
    {
     "name": "stdout",
     "output_type": "stream",
     "text": [
      "Requirement already satisfied: beautifulsoup4 in c:\\users\\tamim\\anaconda3\\lib\\site-packages (4.11.1)\n",
      "Requirement already satisfied: soupsieve>1.2 in c:\\users\\tamim\\anaconda3\\lib\\site-packages (from beautifulsoup4) (2.3.1)\n",
      "Requirement already satisfied: requests in c:\\users\\tamim\\anaconda3\\lib\\site-packages (2.27.1)\n",
      "Requirement already satisfied: charset-normalizer~=2.0.0 in c:\\users\\tamim\\anaconda3\\lib\\site-packages (from requests) (2.0.4)\n",
      "Requirement already satisfied: urllib3<1.27,>=1.21.1 in c:\\users\\tamim\\anaconda3\\lib\\site-packages (from requests) (1.26.9)\n",
      "Requirement already satisfied: idna<4,>=2.5 in c:\\users\\tamim\\anaconda3\\lib\\site-packages (from requests) (3.3)\n",
      "Requirement already satisfied: certifi>=2017.4.17 in c:\\users\\tamim\\anaconda3\\lib\\site-packages (from requests) (2021.10.8)\n"
     ]
    }
   ],
   "source": [
    "!pip3 install beautifulsoup4\n",
    "!pip3 install requests"
   ]
  },
  {
   "cell_type": "code",
   "execution_count": 2,
   "metadata": {},
   "outputs": [],
   "source": [
    "import sys\n",
    "\n",
    "import requests\n",
    "from bs4 import BeautifulSoup\n",
    "import re\n",
    "import unicodedata\n",
    "import pandas as pd"
   ]
  },
  {
   "cell_type": "markdown",
   "metadata": {},
   "source": [
    "and we will provide some helper functions for you to process web scraped HTML table\n"
   ]
  },
  {
   "cell_type": "code",
   "execution_count": 3,
   "metadata": {},
   "outputs": [],
   "source": [
    "def date_time(table_cells):\n",
    "    \"\"\"\n",
    "    This function returns the data and time from the HTML  table cell\n",
    "    Input: the  element of a table data cell extracts extra row\n",
    "    \"\"\"\n",
    "    return [data_time.strip() for data_time in list(table_cells.strings)][0:2]\n",
    "\n",
    "def booster_version(table_cells):\n",
    "    \"\"\"\n",
    "    This function returns the booster version from the HTML  table cell \n",
    "    Input: the  element of a table data cell extracts extra row\n",
    "    \"\"\"\n",
    "    out=''.join([booster_version for i,booster_version in enumerate( table_cells.strings) if i%2==0][0:-1])\n",
    "    return out\n",
    "\n",
    "def landing_status(table_cells):\n",
    "    \"\"\"\n",
    "    This function returns the landing status from the HTML table cell \n",
    "    Input: the  element of a table data cell extracts extra row\n",
    "    \"\"\"\n",
    "    out=[i for i in table_cells.strings][0]\n",
    "    return out\n",
    "\n",
    "\n",
    "def get_mass(table_cells):\n",
    "    mass=unicodedata.normalize(\"NFKD\", table_cells.text).strip()\n",
    "    if mass:\n",
    "        mass.find(\"kg\")\n",
    "        new_mass=mass[0:mass.find(\"kg\")+2]\n",
    "    else:\n",
    "        new_mass=0\n",
    "    return new_mass\n",
    "\n",
    "\n",
    "def extract_column_from_header(row):\n",
    "    \"\"\"\n",
    "    This function returns the landing status from the HTML table cell \n",
    "    Input: the  element of a table data cell extracts extra row\n",
    "    \"\"\"\n",
    "    \n",
    "    if (row.br):\n",
    "        row.br.extract()\n",
    "    if (row.a):\n",
    "        row.a.extract()\n",
    "    if (row.sup):\n",
    "        row.sup.extract()\n",
    "    if (row.p):\n",
    "        row.p.extract()\n",
    "    column_name = ' '.join(row.contents)\n",
    "    \n",
    "    # Filter the digit and empty names\n",
    "    if not(column_name.strip().isdigit()):\n",
    "        column_name = column_name.strip()\n",
    "        return column_name    "
   ]
  },
  {
   "cell_type": "markdown",
   "metadata": {},
   "source": [
    "To keep the lab tasks consistent, you will be asked to scrape the data from a snapshot of the  `List of Falcon 9 and Falcon Heavy launches` Wikipage updated on\n",
    "`9th June 2021`\n"
   ]
  },
  {
   "cell_type": "code",
   "execution_count": 4,
   "metadata": {},
   "outputs": [],
   "source": [
    "static_url = \"https://en.wikipedia.org/w/index.php?title=List_of_Falcon_9_and_Falcon_Heavy_launches&oldid=1027686922\""
   ]
  },
  {
   "cell_type": "markdown",
   "metadata": {},
   "source": [
    "Next, request the HTML page from the above URL and get a `response` object\n"
   ]
  },
  {
   "cell_type": "markdown",
   "metadata": {},
   "source": [
    "### TASK 1: Request the Falcon9 Launch Wiki page from its URL\n"
   ]
  },
  {
   "cell_type": "markdown",
   "metadata": {},
   "source": [
    "First, let's perform an HTTP GET method to request the Falcon9 Launch HTML page, as an HTTP response.\n"
   ]
  },
  {
   "cell_type": "code",
   "execution_count": 5,
   "metadata": {},
   "outputs": [
    {
     "data": {
      "text/plain": [
       "<Response [200]>"
      ]
     },
     "execution_count": 5,
     "metadata": {},
     "output_type": "execute_result"
    }
   ],
   "source": [
    "# use requests.get() method with the provided static_url\n",
    "# assign the response to a object\n",
    "page = requests.get(static_url)\n",
    "page"
   ]
  },
  {
   "cell_type": "markdown",
   "metadata": {},
   "source": [
    "Create a `BeautifulSoup` object from the HTML `response`\n"
   ]
  },
  {
   "cell_type": "code",
   "execution_count": 6,
   "metadata": {},
   "outputs": [],
   "source": [
    "# Use BeautifulSoup() to create a BeautifulSoup object from a response text content\n",
    "soup = BeautifulSoup(page.text, 'html.parser')"
   ]
  },
  {
   "cell_type": "markdown",
   "metadata": {},
   "source": [
    "Print the page title to verify if the `BeautifulSoup` object was created properly\n"
   ]
  },
  {
   "cell_type": "code",
   "execution_count": 7,
   "metadata": {},
   "outputs": [
    {
     "data": {
      "text/plain": [
       "<title>List of Falcon 9 and Falcon Heavy launches - Wikipedia</title>"
      ]
     },
     "execution_count": 7,
     "metadata": {},
     "output_type": "execute_result"
    }
   ],
   "source": [
    "# Use soup.title attribute\n",
    "soup.title"
   ]
  },
  {
   "cell_type": "markdown",
   "metadata": {},
   "source": [
    "### TASK 2: Extract all column/variable names from the HTML table header\n"
   ]
  },
  {
   "cell_type": "markdown",
   "metadata": {},
   "source": [
    "Next, we want to collect all relevant column names from the HTML table header\n"
   ]
  },
  {
   "cell_type": "markdown",
   "metadata": {},
   "source": [
    "Let's try to find all tables on the wiki page first. If you need to refresh your memory about `BeautifulSoup`, please check the external reference link towards the end of this lab\n"
   ]
  },
  {
   "cell_type": "code",
   "execution_count": 8,
   "metadata": {},
   "outputs": [
    {
     "name": "stdout",
     "output_type": "stream",
     "text": [
      "24\n"
     ]
    }
   ],
   "source": [
    "# Use the find_all function in the BeautifulSoup object, with element type `table`\n",
    "# Assign the result to a list called `html_tables`\n",
    "html_tables = soup.find_all('table')\n",
    "print(len(html_tables))"
   ]
  },
  {
   "cell_type": "markdown",
   "metadata": {},
   "source": [
    "Starting from the third table is our target table contains the actual launch records.\n"
   ]
  },
  {
   "cell_type": "code",
   "execution_count": 9,
   "metadata": {},
   "outputs": [
    {
     "name": "stdout",
     "output_type": "stream",
     "text": [
      "[<th scope=\"col\">Flight No.\n",
      "</th>, <th scope=\"col\">Date and<br/>time (<a href=\"/wiki/Coordinated_Universal_Time\" title=\"Coordinated Universal Time\">UTC</a>)\n",
      "</th>, <th scope=\"col\"><a href=\"/wiki/List_of_Falcon_9_first-stage_boosters\" title=\"List of Falcon 9 first-stage boosters\">Version,<br/>Booster</a> <sup class=\"reference\" id=\"cite_ref-booster_11-0\"><a href=\"#cite_note-booster-11\">[b]</a></sup>\n",
      "</th>, <th scope=\"col\">Launch site\n",
      "</th>, <th scope=\"col\">Payload<sup class=\"reference\" id=\"cite_ref-Dragon_12-0\"><a href=\"#cite_note-Dragon-12\">[c]</a></sup>\n",
      "</th>, <th scope=\"col\">Payload mass\n",
      "</th>, <th scope=\"col\">Orbit\n",
      "</th>, <th scope=\"col\">Customer\n",
      "</th>, <th scope=\"col\">Launch<br/>outcome\n",
      "</th>, <th scope=\"col\"><a href=\"/wiki/Falcon_9_first-stage_landing_tests\" title=\"Falcon 9 first-stage landing tests\">Booster<br/>landing</a>\n",
      "</th>, <th rowspan=\"2\" scope=\"row\" style=\"text-align:center;\">1\n",
      "</th>, <th rowspan=\"2\" scope=\"row\" style=\"text-align:center;\">2\n",
      "</th>, <th rowspan=\"2\" scope=\"row\" style=\"text-align:center;\">3\n",
      "</th>, <th rowspan=\"3\" scope=\"row\" style=\"text-align:center;\">4\n",
      "</th>, <th rowspan=\"2\" scope=\"row\" style=\"text-align:center;\">5\n",
      "</th>, <th rowspan=\"2\" scope=\"row\" style=\"text-align:center;\">6\n",
      "</th>, <th rowspan=\"2\" scope=\"row\" style=\"text-align:center;\">7\n",
      "</th>]\n"
     ]
    }
   ],
   "source": [
    "# Let's print the third table and check its content\n",
    "first_launch_table = html_tables[2]\n",
    "print(first_launch_table.find_all('th'))"
   ]
  },
  {
   "cell_type": "markdown",
   "metadata": {},
   "source": [
    "You should able to see the columns names embedded in the table header elements `<th>` as follows:\n"
   ]
  },
  {
   "cell_type": "markdown",
   "metadata": {},
   "source": [
    "```\n",
    "<tr>\n",
    "<th scope=\"col\">Flight No.\n",
    "</th>\n",
    "<th scope=\"col\">Date and<br/>time (<a href=\"/wiki/Coordinated_Universal_Time\" title=\"Coordinated Universal Time\">UTC</a>)\n",
    "</th>\n",
    "<th scope=\"col\"><a href=\"/wiki/List_of_Falcon_9_first-stage_boosters\" title=\"List of Falcon 9 first-stage boosters\">Version,<br/>Booster</a> <sup class=\"reference\" id=\"cite_ref-booster_11-0\"><a href=\"#cite_note-booster-11\">[b]</a></sup>\n",
    "</th>\n",
    "<th scope=\"col\">Launch site\n",
    "</th>\n",
    "<th scope=\"col\">Payload<sup class=\"reference\" id=\"cite_ref-Dragon_12-0\"><a href=\"#cite_note-Dragon-12\">[c]</a></sup>\n",
    "</th>\n",
    "<th scope=\"col\">Payload mass\n",
    "</th>\n",
    "<th scope=\"col\">Orbit\n",
    "</th>\n",
    "<th scope=\"col\">Customer\n",
    "</th>\n",
    "<th scope=\"col\">Launch<br/>outcome\n",
    "</th>\n",
    "<th scope=\"col\"><a href=\"/wiki/Falcon_9_first-stage_landing_tests\" title=\"Falcon 9 first-stage landing tests\">Booster<br/>landing</a>\n",
    "</th></tr>\n",
    "```\n"
   ]
  },
  {
   "cell_type": "markdown",
   "metadata": {},
   "source": [
    "Next, we just need to iterate through the `<th>` elements and apply the provided `extract_column_from_header()` to extract column name one by one\n"
   ]
  },
  {
   "cell_type": "code",
   "execution_count": 10,
   "metadata": {},
   "outputs": [],
   "source": [
    "column_names = []\n",
    "\n",
    "# Apply find_all() function with `th` element on first_launch_table\n",
    "# Iterate each th element and apply the provided extract_column_from_header() to get a column name\n",
    "# Append the Non-empty column name (`if name is not None and len(name) > 0`) into a list called column_names\n",
    "\n",
    "headings = first_launch_table.find_all('th')\n",
    "\n",
    "for head in headings:\n",
    "    name = extract_column_from_header(head)\n",
    "    if name is not None and len(name) > 0:\n",
    "        column_names.append(name)"
   ]
  },
  {
   "cell_type": "markdown",
   "metadata": {},
   "source": [
    "Check the extracted column names\n"
   ]
  },
  {
   "cell_type": "code",
   "execution_count": 11,
   "metadata": {},
   "outputs": [
    {
     "name": "stdout",
     "output_type": "stream",
     "text": [
      "['Flight No.', 'Date and time ( )', 'Launch site', 'Payload', 'Payload mass', 'Orbit', 'Customer', 'Launch outcome']\n"
     ]
    }
   ],
   "source": [
    "print(column_names)"
   ]
  },
  {
   "cell_type": "markdown",
   "metadata": {},
   "source": [
    "## TASK 3: Create a data frame by parsing the launch HTML tables\n"
   ]
  },
  {
   "cell_type": "markdown",
   "metadata": {},
   "source": [
    "We will create an empty dictionary with keys from the extracted column names in the previous task. Later, this dictionary will be converted into a Pandas dataframe\n"
   ]
  },
  {
   "cell_type": "code",
   "execution_count": 12,
   "metadata": {},
   "outputs": [
    {
     "name": "stdout",
     "output_type": "stream",
     "text": [
      "{'Flight No.': [], 'Launch site': [], 'Payload': [], 'Payload mass': [], 'Orbit': [], 'Customer': [], 'Launch outcome': [], 'Version Booster': [], 'Booster landing': [], 'Date': [], 'Time': []}\n"
     ]
    }
   ],
   "source": [
    "launch_dict= dict.fromkeys(column_names)\n",
    "\n",
    "# Remove an irrelvant column\n",
    "del launch_dict['Date and time ( )']\n",
    "\n",
    "# Let's initial the launch_dict with each value to be an empty list\n",
    "launch_dict['Flight No.'] = []\n",
    "launch_dict['Launch site'] = []\n",
    "launch_dict['Payload'] = []\n",
    "launch_dict['Payload mass'] = []\n",
    "launch_dict['Orbit'] = []\n",
    "launch_dict['Customer'] = []\n",
    "launch_dict['Launch outcome'] = []\n",
    "# Added some new columns\n",
    "launch_dict['Version Booster']=[]\n",
    "launch_dict['Booster landing']=[]\n",
    "launch_dict['Date']=[]\n",
    "launch_dict['Time']=[]\n",
    "\n",
    "# Check the contents of luanch_dict\n",
    "print(launch_dict)"
   ]
  },
  {
   "cell_type": "markdown",
   "metadata": {},
   "source": [
    "Next, we just need to fill up the `launch_dict` with launch records extracted from table rows.\n"
   ]
  },
  {
   "cell_type": "markdown",
   "metadata": {},
   "source": [
    "Usually, HTML tables in Wiki pages are likely to contain unexpected annotations and other types of noises, such as reference links `B0004.1[8]`, missing values `N/A [e]`, inconsistent formatting, etc.\n"
   ]
  },
  {
   "cell_type": "markdown",
   "metadata": {},
   "source": [
    "To simplify the parsing process, we have provided an incomplete code snippet below to help you to fill up the `launch_dict`. Please complete the following code snippet with TODOs or you can choose to write your own logic to parse all launch tables:\n"
   ]
  },
  {
   "cell_type": "code",
   "execution_count": 13,
   "metadata": {},
   "outputs": [],
   "source": [
    "extracted_row = 0\n",
    "#Extract each table \n",
    "for table_number,table in enumerate(soup.find_all('table',\"wikitable plainrowheaders collapsible\")):\n",
    "   # get table row \n",
    "    for rows in table.find_all(\"tr\"):\n",
    "        #check to see if first table heading is as number corresponding to launch a number \n",
    "        if rows.th:\n",
    "            if rows.th.string:\n",
    "                flight_number=rows.th.string.strip()\n",
    "                flag=flight_number.isdigit()\n",
    "        else:\n",
    "            flag=False\n",
    "        #get table element \n",
    "        row=rows.find_all('td')\n",
    "        #if it is number save cells in a dictonary \n",
    "        if flag:\n",
    "            extracted_row += 1\n",
    "            # Flight Number value\n",
    "            # TODO: Append the flight_number into launch_dict with key `Flight No.`\n",
    "            launch_dict['Flight No.'].append(flight_number)\n",
    "            #print(flight_number)\n",
    "            datatimelist=date_time(row[0])\n",
    "            \n",
    "            # Date value\n",
    "            # TODO: Append the date into launch_dict with key `Date`\n",
    "            date = datatimelist[0].strip(',')\n",
    "            launch_dict['Date'].append(date)\n",
    "                        \n",
    "            # Time value\n",
    "            # TODO: Append the time into launch_dict with key `Time`\n",
    "            time = datatimelist[1]\n",
    "            launch_dict['Time'].append(time)\n",
    "                          \n",
    "            # Booster version\n",
    "            # TODO: Append the bv into launch_dict with key `Version Booster`\n",
    "            bv=booster_version(row[1])\n",
    "            if not(bv):\n",
    "                bv=row[1].a.string\n",
    "            launch_dict['Version Booster'].append(bv)\n",
    "                        \n",
    "            # Launch Site\n",
    "            # TODO: Append the bv into launch_dict with key `Launch Site`\n",
    "            launch_site = row[2].a.string\n",
    "            launch_dict['Launch site'].append(launch_site)\n",
    "                        \n",
    "            # Payload\n",
    "            # TODO: Append the payload into launch_dict with key `Payload`\n",
    "            payload = row[3].a.string\n",
    "            launch_dict['Payload'].append(payload)\n",
    "                        \n",
    "            # Payload Mass\n",
    "            # TODO: Append the payload_mass into launch_dict with key `Payload mass`\n",
    "            payload_mass = get_mass(row[4])\n",
    "            launch_dict['Payload mass'].append(payload_mass)\n",
    "            #print(payload)\n",
    "            \n",
    "            # Orbit\n",
    "            # TODO: Append the orbit into launch_dict with key `Orbit`\n",
    "            orbit = row[5].a.string\n",
    "            launch_dict['Orbit'].append(orbit)\n",
    "                        \n",
    "            # Customer\n",
    "            # TODO: Append the customer into launch_dict with key `Customer`\n",
    "            try:\n",
    "                customer = row[6].a.string\n",
    "            except:\n",
    "                customer = row[6].string\n",
    "            launch_dict['Customer'].append(customer)\n",
    "                        \n",
    "            # Launch outcome\n",
    "            # TODO: Append the launch_outcome into launch_dict with key `Launch outcome`\n",
    "            launch_outcome = list(row[7].strings)[0]\n",
    "            launch_dict['Launch outcome'].append(launch_outcome)\n",
    "                        \n",
    "            # Booster landing\n",
    "            # TODO: Append the launch_outcome into launch_dict with key `Booster landing`\n",
    "            booster_landing = landing_status(row[8])\n",
    "            launch_dict['Booster landing'].append(booster_landing)"
   ]
  },
  {
   "cell_type": "markdown",
   "metadata": {},
   "source": [
    "After you have fill in the parsed launch record values into `launch_dict`, you can create a dataframe from it.\n"
   ]
  },
  {
   "cell_type": "code",
   "execution_count": 14,
   "metadata": {},
   "outputs": [
    {
     "data": {
      "text/html": [
       "<div>\n",
       "<style scoped>\n",
       "    .dataframe tbody tr th:only-of-type {\n",
       "        vertical-align: middle;\n",
       "    }\n",
       "\n",
       "    .dataframe tbody tr th {\n",
       "        vertical-align: top;\n",
       "    }\n",
       "\n",
       "    .dataframe thead th {\n",
       "        text-align: right;\n",
       "    }\n",
       "</style>\n",
       "<table border=\"1\" class=\"dataframe\">\n",
       "  <thead>\n",
       "    <tr style=\"text-align: right;\">\n",
       "      <th></th>\n",
       "      <th>Flight No.</th>\n",
       "      <th>Launch site</th>\n",
       "      <th>Payload</th>\n",
       "      <th>Payload mass</th>\n",
       "      <th>Orbit</th>\n",
       "      <th>Customer</th>\n",
       "      <th>Launch outcome</th>\n",
       "      <th>Version Booster</th>\n",
       "      <th>Booster landing</th>\n",
       "      <th>Date</th>\n",
       "      <th>Time</th>\n",
       "    </tr>\n",
       "  </thead>\n",
       "  <tbody>\n",
       "    <tr>\n",
       "      <th>0</th>\n",
       "      <td>1</td>\n",
       "      <td>CCAFS</td>\n",
       "      <td>Dragon Spacecraft Qualification Unit</td>\n",
       "      <td>0</td>\n",
       "      <td>LEO</td>\n",
       "      <td>SpaceX</td>\n",
       "      <td>Success\\n</td>\n",
       "      <td>F9 v1.0B0003.1</td>\n",
       "      <td>Failure</td>\n",
       "      <td>4 June 2010</td>\n",
       "      <td>18:45</td>\n",
       "    </tr>\n",
       "    <tr>\n",
       "      <th>1</th>\n",
       "      <td>2</td>\n",
       "      <td>CCAFS</td>\n",
       "      <td>Dragon</td>\n",
       "      <td>0</td>\n",
       "      <td>LEO</td>\n",
       "      <td>NASA</td>\n",
       "      <td>Success</td>\n",
       "      <td>F9 v1.0B0004.1</td>\n",
       "      <td>Failure</td>\n",
       "      <td>8 December 2010</td>\n",
       "      <td>15:43</td>\n",
       "    </tr>\n",
       "    <tr>\n",
       "      <th>2</th>\n",
       "      <td>3</td>\n",
       "      <td>CCAFS</td>\n",
       "      <td>Dragon</td>\n",
       "      <td>525 kg</td>\n",
       "      <td>LEO</td>\n",
       "      <td>NASA</td>\n",
       "      <td>Success</td>\n",
       "      <td>F9 v1.0B0005.1</td>\n",
       "      <td>No attempt\\n</td>\n",
       "      <td>22 May 2012</td>\n",
       "      <td>07:44</td>\n",
       "    </tr>\n",
       "    <tr>\n",
       "      <th>3</th>\n",
       "      <td>4</td>\n",
       "      <td>CCAFS</td>\n",
       "      <td>SpaceX CRS-1</td>\n",
       "      <td>4,700 kg</td>\n",
       "      <td>LEO</td>\n",
       "      <td>NASA</td>\n",
       "      <td>Success\\n</td>\n",
       "      <td>F9 v1.0B0006.1</td>\n",
       "      <td>No attempt</td>\n",
       "      <td>8 October 2012</td>\n",
       "      <td>00:35</td>\n",
       "    </tr>\n",
       "    <tr>\n",
       "      <th>4</th>\n",
       "      <td>5</td>\n",
       "      <td>CCAFS</td>\n",
       "      <td>SpaceX CRS-2</td>\n",
       "      <td>4,877 kg</td>\n",
       "      <td>LEO</td>\n",
       "      <td>NASA</td>\n",
       "      <td>Success\\n</td>\n",
       "      <td>F9 v1.0B0007.1</td>\n",
       "      <td>No attempt\\n</td>\n",
       "      <td>1 March 2013</td>\n",
       "      <td>15:10</td>\n",
       "    </tr>\n",
       "    <tr>\n",
       "      <th>...</th>\n",
       "      <td>...</td>\n",
       "      <td>...</td>\n",
       "      <td>...</td>\n",
       "      <td>...</td>\n",
       "      <td>...</td>\n",
       "      <td>...</td>\n",
       "      <td>...</td>\n",
       "      <td>...</td>\n",
       "      <td>...</td>\n",
       "      <td>...</td>\n",
       "      <td>...</td>\n",
       "    </tr>\n",
       "    <tr>\n",
       "      <th>116</th>\n",
       "      <td>117</td>\n",
       "      <td>CCSFS</td>\n",
       "      <td>Starlink</td>\n",
       "      <td>15,600 kg</td>\n",
       "      <td>LEO</td>\n",
       "      <td>SpaceX</td>\n",
       "      <td>Success\\n</td>\n",
       "      <td>F9 B5B1051.10</td>\n",
       "      <td>Success</td>\n",
       "      <td>9 May 2021</td>\n",
       "      <td>06:42</td>\n",
       "    </tr>\n",
       "    <tr>\n",
       "      <th>117</th>\n",
       "      <td>118</td>\n",
       "      <td>KSC</td>\n",
       "      <td>Starlink</td>\n",
       "      <td>~14,000 kg</td>\n",
       "      <td>LEO</td>\n",
       "      <td>SpaceX</td>\n",
       "      <td>Success\\n</td>\n",
       "      <td>F9 B5B1058.8</td>\n",
       "      <td>Success</td>\n",
       "      <td>15 May 2021</td>\n",
       "      <td>22:56</td>\n",
       "    </tr>\n",
       "    <tr>\n",
       "      <th>118</th>\n",
       "      <td>119</td>\n",
       "      <td>CCSFS</td>\n",
       "      <td>Starlink</td>\n",
       "      <td>15,600 kg</td>\n",
       "      <td>LEO</td>\n",
       "      <td>SpaceX</td>\n",
       "      <td>Success\\n</td>\n",
       "      <td>F9 B5B1063.2</td>\n",
       "      <td>Success</td>\n",
       "      <td>26 May 2021</td>\n",
       "      <td>18:59</td>\n",
       "    </tr>\n",
       "    <tr>\n",
       "      <th>119</th>\n",
       "      <td>120</td>\n",
       "      <td>KSC</td>\n",
       "      <td>SpaceX CRS-22</td>\n",
       "      <td>3,328 kg</td>\n",
       "      <td>LEO</td>\n",
       "      <td>NASA</td>\n",
       "      <td>Success\\n</td>\n",
       "      <td>F9 B5B1067.1</td>\n",
       "      <td>Success</td>\n",
       "      <td>3 June 2021</td>\n",
       "      <td>17:29</td>\n",
       "    </tr>\n",
       "    <tr>\n",
       "      <th>120</th>\n",
       "      <td>121</td>\n",
       "      <td>CCSFS</td>\n",
       "      <td>SXM-8</td>\n",
       "      <td>7,000 kg</td>\n",
       "      <td>GTO</td>\n",
       "      <td>Sirius XM</td>\n",
       "      <td>Success\\n</td>\n",
       "      <td>F9 B5</td>\n",
       "      <td>Success</td>\n",
       "      <td>6 June 2021</td>\n",
       "      <td>04:26</td>\n",
       "    </tr>\n",
       "  </tbody>\n",
       "</table>\n",
       "<p>121 rows × 11 columns</p>\n",
       "</div>"
      ],
      "text/plain": [
       "    Flight No. Launch site                               Payload Payload mass  \\\n",
       "0            1       CCAFS  Dragon Spacecraft Qualification Unit            0   \n",
       "1            2       CCAFS                                Dragon            0   \n",
       "2            3       CCAFS                                Dragon       525 kg   \n",
       "3            4       CCAFS                          SpaceX CRS-1     4,700 kg   \n",
       "4            5       CCAFS                          SpaceX CRS-2     4,877 kg   \n",
       "..         ...         ...                                   ...          ...   \n",
       "116        117       CCSFS                              Starlink    15,600 kg   \n",
       "117        118         KSC                              Starlink   ~14,000 kg   \n",
       "118        119       CCSFS                              Starlink    15,600 kg   \n",
       "119        120         KSC                         SpaceX CRS-22     3,328 kg   \n",
       "120        121       CCSFS                                 SXM-8     7,000 kg   \n",
       "\n",
       "    Orbit   Customer Launch outcome Version Booster Booster landing  \\\n",
       "0     LEO     SpaceX      Success\\n  F9 v1.0B0003.1         Failure   \n",
       "1     LEO       NASA        Success  F9 v1.0B0004.1         Failure   \n",
       "2     LEO       NASA        Success  F9 v1.0B0005.1    No attempt\\n   \n",
       "3     LEO       NASA      Success\\n  F9 v1.0B0006.1      No attempt   \n",
       "4     LEO       NASA      Success\\n  F9 v1.0B0007.1    No attempt\\n   \n",
       "..    ...        ...            ...             ...             ...   \n",
       "116   LEO     SpaceX      Success\\n   F9 B5B1051.10         Success   \n",
       "117   LEO     SpaceX      Success\\n    F9 B5B1058.8         Success   \n",
       "118   LEO     SpaceX      Success\\n    F9 B5B1063.2         Success   \n",
       "119   LEO       NASA      Success\\n    F9 B5B1067.1         Success   \n",
       "120   GTO  Sirius XM      Success\\n           F9 B5         Success   \n",
       "\n",
       "                Date   Time  \n",
       "0        4 June 2010  18:45  \n",
       "1    8 December 2010  15:43  \n",
       "2        22 May 2012  07:44  \n",
       "3     8 October 2012  00:35  \n",
       "4       1 March 2013  15:10  \n",
       "..               ...    ...  \n",
       "116       9 May 2021  06:42  \n",
       "117      15 May 2021  22:56  \n",
       "118      26 May 2021  18:59  \n",
       "119      3 June 2021  17:29  \n",
       "120      6 June 2021  04:26  \n",
       "\n",
       "[121 rows x 11 columns]"
      ]
     },
     "execution_count": 14,
     "metadata": {},
     "output_type": "execute_result"
    }
   ],
   "source": [
    "df=pd.DataFrame(launch_dict)\n",
    "df"
   ]
  },
  {
   "cell_type": "markdown",
   "metadata": {},
   "source": [
    "We can now export it to a <b>CSV</b> for the next section, but to make the answers consistent and in case you have difficulties finishing this lab.\n",
    "\n",
    "Following labs will be using a provided dataset to make each lab independent.\n"
   ]
  },
  {
   "cell_type": "markdown",
   "metadata": {},
   "source": [
    "<code>df.to_csv('spacex_web_scraped.csv', index=False)</code>\n"
   ]
  },
  {
   "cell_type": "code",
   "execution_count": 15,
   "metadata": {},
   "outputs": [
    {
     "data": {
      "text/html": [
       "<a download=\"/home/wsuser/work/dataset_part_1.csv\" href=\"data:text/csv;base64,LEZsaWdodCBOby4sTGF1bmNoIHNpdGUsUGF5bG9hZCxQYXlsb2FkIG1hc3MsT3JiaXQsQ3VzdG9tZXIsTGF1bmNoIG91dGNvbWUsVmVyc2lvbiBCb29zdGVyLEJvb3N0ZXIgbGFuZGluZyxEYXRlLFRpbWUNCjAsMSxDQ0FGUyxEcmFnb24gU3BhY2VjcmFmdCBRdWFsaWZpY2F0aW9uIFVuaXQsMCxMRU8sU3BhY2VYLCJTdWNjZXNzCiIsRjkgdjEuMEIwMDAzLjEsRmFpbHVyZSw0IEp1bmUgMjAxMCwxODo0NQ0KMSwyLENDQUZTLERyYWdvbiwwLExFTyxOQVNBLFN1Y2Nlc3MsRjkgdjEuMEIwMDA0LjEsRmFpbHVyZSw4IERlY2VtYmVyIDIwMTAsMTU6NDMNCjIsMyxDQ0FGUyxEcmFnb24sNTI1IGtnLExFTyxOQVNBLFN1Y2Nlc3MsRjkgdjEuMEIwMDA1LjEsIk5vIGF0dGVtcHQKIiwyMiBNYXkgMjAxMiwwNzo0NA0KMyw0LENDQUZTLFNwYWNlWCBDUlMtMSwiNCw3MDAga2ciLExFTyxOQVNBLCJTdWNjZXNzCiIsRjkgdjEuMEIwMDA2LjEsTm8gYXR0ZW1wdCw4IE9jdG9iZXIgMjAxMiwwMDozNQ0KNCw1LENDQUZTLFNwYWNlWCBDUlMtMiwiNCw4Nzcga2ciLExFTyxOQVNBLCJTdWNjZXNzCiIsRjkgdjEuMEIwMDA3LjEsIk5vIGF0dGVtcHQKIiwxIE1hcmNoIDIwMTMsMTU6MTANCjUsNixWQUZCLENBU1NJT1BFLDUwMCBrZyxQb2xhciBvcmJpdCxNREEsU3VjY2VzcyxGOSB2MS4xQjEwMDMsVW5jb250cm9sbGVkLDI5IFNlcHRlbWJlciAyMDEzLDE2OjAwDQo2LDcsQ0NBRlMsU0VTLTgsIjMsMTcwIGtnIixHVE8sU0VTLFN1Y2Nlc3MsRjkgdjEuMSxObyBhdHRlbXB0LDMgRGVjZW1iZXIgMjAxMywyMjo0MQ0KNyw4LENDQUZTLFRoYWljb20gNiwiMywzMjUga2ciLEdUTyxUaGFpY29tLFN1Y2Nlc3MsRjkgdjEuMSxObyBhdHRlbXB0LDYgSmFudWFyeSAyMDE0LDIyOjA2DQo4LDksQ2FwZSBDYW5hdmVyYWwsU3BhY2VYIENSUy0zLCIyLDI5NiBrZyIsTEVPLE5BU0EsIlN1Y2Nlc3MKIixGOSB2MS4xLENvbnRyb2xsZWQsMTggQXByaWwgMjAxNCwxOToyNQ0KOSwxMCxDYXBlIENhbmF2ZXJhbCxPcmJjb21tLU9HMiwiMSwzMTYga2ciLExFTyxPcmJjb21tLFN1Y2Nlc3MsRjkgdjEuMSxDb250cm9sbGVkLDE0IEp1bHkgMjAxNCwxNToxNQ0KMTAsMTEsQ2FwZSBDYW5hdmVyYWwsQXNpYVNhdCA4LCI0LDUzNSBrZyIsR1RPLEFzaWFTYXQsU3VjY2VzcyxGOSB2MS4xLE5vIGF0dGVtcHQsNSBBdWd1c3QgMjAxNCwwODowMA0KMTEsMTIsQ2FwZSBDYW5hdmVyYWwsQXNpYVNhdCA2LCI0LDQyOCBrZyIsR1RPLEFzaWFTYXQsU3VjY2VzcyxGOSB2MS4xLCJObyBhdHRlbXB0CiIsNyBTZXB0ZW1iZXIgMjAxNCwwNTowMA0KMTIsMTMsQ2FwZSBDYW5hdmVyYWwsU3BhY2VYIENSUy00LCIyLDIxNiBrZyIsTEVPLE5BU0EsU3VjY2VzcyxGOSB2MS4xLFVuY29udHJvbGxlZCwyMSBTZXB0ZW1iZXIgMjAxNCwwNTo1Mg0KMTMsMTQsQ2FwZSBDYW5hdmVyYWwsU3BhY2VYIENSUy01LCIyLDM5NSBrZyIsTEVPLE5BU0EsU3VjY2VzcyxGOSB2MS4xLEZhaWx1cmUgLDEwIEphbnVhcnkgMjAxNSwwOTo0Nw0KMTQsMTUsQ2FwZSBDYW5hdmVyYWwsRFNDT1ZSLDU3MCBrZyxIRU8sVVNBRiwiU3VjY2VzcwoiLEY5IHYxLjEsQ29udHJvbGxlZCwxMSBGZWJydWFyeSAyMDE1LDIzOjAzDQoxNSwxNixDYXBlIENhbmF2ZXJhbCxBQlMtM0EsIjQsMTU5IGtnIixHVE8sQUJTLCJTdWNjZXNzCiIsRjkgdjEuMSxObyBhdHRlbXB0LDIgTWFyY2ggMjAxNSwwMzo1MA0KMTYsMTcsQ2FwZSBDYW5hdmVyYWwsU3BhY2VYIENSUy02LCIxLDg5OCBrZyIsTEVPLE5BU0EsIlN1Y2Nlc3MKIixGOSB2MS4xLEZhaWx1cmUsMTQgQXByaWwgMjAxNSwyMDoxMA0KMTcsMTgsQ2FwZSBDYW5hdmVyYWwsVMO8cmttZW7DhGxlbSA1MsKwRSAvIE1vbmFjb1NBVCwiNCw3MDcga2ciLEdUTywsIlN1Y2Nlc3MKIixGOSB2MS4xLE5vIGF0dGVtcHQsMjcgQXByaWwgMjAxNSwyMzowMw0KMTgsMTksQ2FwZSBDYW5hdmVyYWwsU3BhY2VYIENSUy03LCIxLDk1MiBrZyIsTEVPLE5BU0EsRmFpbHVyZSxGOSB2MS4xLFByZWNsdWRlZCwyOCBKdW5lIDIwMTUsMTQ6MjENCjE5LDIwLENhcGUgQ2FuYXZlcmFsLE9yYmNvbW0tT0cyLCIyLDAzNCBrZyIsTEVPLE9yYmNvbW0sIlN1Y2Nlc3MKIixGOSBGVCxTdWNjZXNzLDIyIERlY2VtYmVyIDIwMTUsMDE6MjkNCjIwLDIxLFZBRkIsSmFzb24tMyw1NTMga2csTEVPLE5BU0EsIlN1Y2Nlc3MKIixGOSB2MS4xLEZhaWx1cmUsMTcgSmFudWFyeSAyMDE2LDE4OjQyDQoyMSwyMixDYXBlIENhbmF2ZXJhbCxTRVMtOSwiNSwyNzEga2ciLEdUTyxTRVMsIlN1Y2Nlc3MKIixGOSBGVCxGYWlsdXJlLDQgTWFyY2ggMjAxNiwyMzozNQ0KMjIsMjMsQ2FwZSBDYW5hdmVyYWwsU3BhY2VYIENSUy04LCIzLDEzNiBrZyIsTEVPLE5BU0EsU3VjY2VzcyxGOSBGVCxTdWNjZXNzLDggQXByaWwgMjAxNiwyMDo0Mw0KMjMsMjQsQ2FwZSBDYW5hdmVyYWwsSkNTQVQtMTQsIjQsNjk2IGtnIixHVE8sU0tZIFBlcmZlY3QgSlNBVCBHcm91cCwiU3VjY2VzcwoiLEY5IEZULFN1Y2Nlc3MsNiBNYXkgMjAxNiwwNToyMQ0KMjQsMjUsQ2FwZSBDYW5hdmVyYWwsVGhhaWNvbSA4LCIzLDEwMCBrZyIsR1RPLFRoYWljb20sIlN1Y2Nlc3MKIixGOSBGVCxTdWNjZXNzLDI3IE1heSAyMDE2LDIxOjM5DQoyNSwyNixDYXBlIENhbmF2ZXJhbCxBQlMtMkEsIjMsNjAwIGtnIixHVE8sQUJTLCJTdWNjZXNzCiIsRjkgRlQsRmFpbHVyZSwxNSBKdW5lIDIwMTYsMTQ6MjkNCjI2LDI3LENhcGUgQ2FuYXZlcmFsLFNwYWNlWCBDUlMtOSwiMiwyNTcga2ciLExFTyxOQVNBLCJTdWNjZXNzCiIsRjkgRlQsU3VjY2VzcywxOCBKdWx5IDIwMTYsMDQ6NDUNCjI3LDI4LENhcGUgQ2FuYXZlcmFsLEpDU0FULTE2LCI0LDYwMCBrZyIsR1RPLFNLWSBQZXJmZWN0IEpTQVQgR3JvdXAsIlN1Y2Nlc3MKIixGOSBGVCxTdWNjZXNzLDE0IEF1Z3VzdCAyMDE2LDA1OjI2DQoyOCwyOSxWQUZCLElyaWRpdW0gTkVYVCwiOSw2MDAga2ciLFBvbGFyLElyaWRpdW0gQ29tbXVuaWNhdGlvbnMsIlN1Y2Nlc3MKIixGOSBGVCxTdWNjZXNzLDE0IEphbnVhcnkgMjAxNywxNzo1NA0KMjksMzAsS1NDLFNwYWNlWCBDUlMtMTAsIjIsNDkwIGtnIixMRU8sTkFTQSwiU3VjY2VzcwoiLEY5IEZULFN1Y2Nlc3MsMTkgRmVicnVhcnkgMjAxNywxNDozOQ0KMzAsMzEsS1NDLEVjaG9TdGFyIDIzLCI1LDYwMCBrZyIsR1RPLEVjaG9TdGFyLCJTdWNjZXNzCiIsRjkgRlQsTm8gYXR0ZW1wdCwxNiBNYXJjaCAyMDE3LDA2OjAwDQozMSwzMixLU0MsU0VTLTEwLCI1LDMwMCBrZyIsR1RPLFNFUyxTdWNjZXNzLEY5IEZU4pm6LFN1Y2Nlc3MsMzAgTWFyY2ggMjAxNywyMjoyNw0KMzIsMzMsS1NDLE5ST0wtNzYsQyxMRU8sTlJPLCJTdWNjZXNzCiIsRjkgRlQsU3VjY2VzcywxIE1heSAyMDE3LDExOjE1DQozMywzNCxLU0MsSW5tYXJzYXQtNSBGNCwiNiwwNzAga2ciLEdUTyxJbm1hcnNhdCwiU3VjY2VzcwoiLEY5IEZULE5vIGF0dGVtcHQsMTUgTWF5IDIwMTcsMjM6MjENCjM0LDM1LEtTQyxTcGFjZVggQ1JTLTExLCIyLDcwOCBrZyIsTEVPLE5BU0EsIlN1Y2Nlc3MKIixGOSBGVCxTdWNjZXNzLDMgSnVuZSAyMDE3LDIxOjA3DQozNSwzNixLU0MsQnVsZ2FyaWFTYXQtMSwiMyw2Njkga2ciLEdUTyxCdWxzYXRjb20sIlN1Y2Nlc3MKIixGOSBGVEIxMDI5LjIsU3VjY2VzcywyMyBKdW5lIDIwMTcsMTk6MTANCjM2LDM3LFZBRkIsSXJpZGl1bSBORVhULCI5LDYwMCBrZyIsTEVPLElyaWRpdW0gQ29tbXVuaWNhdGlvbnMsIlN1Y2Nlc3MKIixGOSBGVCxTdWNjZXNzLDI1IEp1bmUgMjAxNywyMDoyNQ0KMzcsMzgsS1NDLEludGVsc2F0IDM1ZSwiNiw3NjEga2ciLEdUTyxJbnRlbHNhdCwiU3VjY2VzcwoiLEY5IEZULE5vIGF0dGVtcHQsNSBKdWx5IDIwMTcsMjM6MzgNCjM4LDM5LEtTQyxTcGFjZVggQ1JTLTEyLCIzLDMxMCBrZyIsTEVPLE5BU0EsIlN1Y2Nlc3MKIixGOSBCNCxTdWNjZXNzLDE0IEF1Z3VzdCAyMDE3LDE2OjMxDQozOSw0MCxWQUZCLEZvcm1vc2F0LTUsNDc1IGtnLFNTTyxOU1BPLCJTdWNjZXNzCiIsRjkgRlQsU3VjY2VzcywyNCBBdWd1c3QgMjAxNywxODo1MQ0KNDAsNDEsS1NDLEJvZWluZyBYLTM3QiwiNCw5OTAga2ciLExFTyxVU0FGLCJTdWNjZXNzCiIsRjkgQjQsU3VjY2Vzcyw3IFNlcHRlbWJlciAyMDE3LDE0OjAwDQo0MSw0MixWQUZCLElyaWRpdW0gTkVYVCwiOSw2MDAga2ciLFBvbGFyLElyaWRpdW0gQ29tbXVuaWNhdGlvbnMsIlN1Y2Nlc3MKIixGOSBCNCxTdWNjZXNzLDkgT2N0b2JlciAyMDE3LDEyOjM3DQo0Miw0MyxLU0MsU0VTLTExLCI1LDIwMCBrZyIsR1RPLFNFUyBTLkEuLCJTdWNjZXNzCiIsRjkgRlRCMTAzMS4yLFN1Y2Nlc3MsMTEgT2N0b2JlciAyMDE3LDIyOjUzOjAwDQo0Myw0NCxLU0MsS29yZWFzYXQgNUEsIjMsNTAwIGtnIixHVE8sS1QgQ29ycG9yYXRpb24sIlN1Y2Nlc3MKIixGOSBCNCxTdWNjZXNzLDMwIE9jdG9iZXIgMjAxNywxOTozNA0KNDQsNDUsQ2FwZSBDYW5hdmVyYWwsU3BhY2VYIENSUy0xMywiMiwyMDUga2ciLExFTyxOQVNBLCJTdWNjZXNzCiIsRjkgRlRCMTAzNS4yLFN1Y2Nlc3MsMTUgRGVjZW1iZXIgMjAxNywxNTozNg0KNDUsNDYsVkFGQixJcmlkaXVtIE5FWFQsIjksNjAwIGtnIixQb2xhcixJcmlkaXVtIENvbW11bmljYXRpb25zLFN1Y2Nlc3MsRjkgRlRCMTAzNi4yLENvbnRyb2xsZWQsMjMgRGVjZW1iZXIgMjAxNywwMToyNw0KNDYsNDcsQ0NBRlMsWnVtYSxDLExFTyxOb3J0aHJvcCBHcnVtbWFuLFN1Y2Nlc3MsRjkgQjQsU3VjY2Vzcyw4IEphbnVhcnkgMjAxOCwwMTowMA0KNDcsNDgsQ0NBRlMsR292U2F0LTEsIjQsMjMwIGtnIixHVE8sU0VTLFN1Y2Nlc3MsRjkgRlRCMTAzMi4yLENvbnRyb2xsZWQsMzEgSmFudWFyeSAyMDE4LDIxOjI1DQo0OCw0OSxWQUZCLFBheiwiMiwxNTAga2ciLFNTTyxIaXNkZXNhdCxTdWNjZXNzLEY5IEZUQjEwMzguMixObyBhdHRlbXB0LDIyIEZlYnJ1YXJ5IDIwMTgsMTQ6MTcNCjQ5LDUwLENDQUZTLEhpc3Bhc2F0IDMwVy02LCI2LDA5MiBrZyIsR1RPLEhpc3Bhc2F0LFN1Y2Nlc3MsRjkgQjQsTm8gYXR0ZW1wdCw2IE1hcmNoIDIwMTgsMDU6MzMNCjUwLDUxLFZBRkIsSXJpZGl1bSBORVhULCI5LDYwMCBrZyIsUG9sYXIsSXJpZGl1bSBDb21tdW5pY2F0aW9ucyxTdWNjZXNzLEY5IEI0QjEwNDEuMixObyBhdHRlbXB0LDMwIE1hcmNoIDIwMTgsMTQ6MTQNCjUxLDUyLENDQUZTLFNwYWNlWCBDUlMtMTQsIjIsNjQ3IGtnIixMRU8sTkFTQSxTdWNjZXNzLEY5IEI0QjEwMzkuMixObyBhdHRlbXB0LDIgQXByaWwgMjAxOCwyMDozMA0KNTIsNTMsQ0NBRlMsVHJhbnNpdGluZyBFeG9wbGFuZXQgU3VydmV5IFNhdGVsbGl0ZSwzNjIga2csSEVPLE5BU0EsU3VjY2VzcyxGOSBCNCxTdWNjZXNzLDE4IEFwcmlsIDIwMTgsMjI6NTENCjUzLDU0LEtTQyxCYW5nYWJhbmRodS0xLCIzLDYwMCBrZyIsR1RPLFRoYWxlcy1BbGVuaWEsU3VjY2VzcyxGOSBCNUIxMDQ2LjEsU3VjY2VzcywxMSBNYXkgMjAxOCwyMDoxNA0KNTQsNTUsVkFGQixJcmlkaXVtIE5FWFQsIjYsNDYwIGtnIixQb2xhcixJcmlkaXVtIENvbW11bmljYXRpb25zLFN1Y2Nlc3MsRjkgQjRCMTA0My4yLE5vIGF0dGVtcHQsMjIgTWF5IDIwMTgsMTk6NDcNCjU1LDU2LENDQUZTLFNFUy0xMiwiNSwzODQga2ciLEdUTyxTRVMsU3VjY2VzcyxGOSBCNEIxMDQwLjIsTm8gYXR0ZW1wdCw0IEp1bmUgMjAxOCwwNDo0NQ0KNTYsNTcsQ0NBRlMsU3BhY2VYIENSUy0xNSwiMiw2OTcga2ciLExFTyxOQVNBLFN1Y2Nlc3MsRjkgQjRCMTA0NS4yLE5vIGF0dGVtcHQsMjkgSnVuZSAyMDE4LDA5OjQyDQo1Nyw1OCxDQ0FGUyxUZWxzdGFyIDE5ViwiNywwNzUga2ciLEdUTyxUZWxlc2F0LFN1Y2Nlc3MsRjkgQjUsU3VjY2VzcywyMiBKdWx5IDIwMTgsMDU6NTANCjU4LDU5LFZBRkIsSXJpZGl1bSBORVhULCI5LDYwMCBrZyIsUG9sYXIsSXJpZGl1bSBDb21tdW5pY2F0aW9ucyxTdWNjZXNzLEY5IEI1QjEwNDgsU3VjY2VzcywyNSBKdWx5IDIwMTgsMTE6MzkNCjU5LDYwLENDQUZTLE1lcmFoIFB1dGloLCI1LDgwMCBrZyIsR1RPLFRlbGtvbSBJbmRvbmVzaWEsU3VjY2VzcyxGOSBCNUIxMDQ2LjIsU3VjY2Vzcyw3IEF1Z3VzdCAyMDE4LDA1OjE4DQo2MCw2MSxDQ0FGUyxUZWxzdGFyIDE4ViwiNywwNjAga2ciLEdUTyxUZWxlc2F0LFN1Y2Nlc3MsRjkgQjUsU3VjY2VzcywxMCBTZXB0ZW1iZXIgMjAxOCwwNDo0NQ0KNjEsNjIsVkFGQixTQU9DT00gMUEsIjMsMDAwIGtnIixTU08sQ09OQUUsU3VjY2VzcyxGOSBCNUIxMDQ4LjIsU3VjY2Vzcyw4IE9jdG9iZXIgMjAxOCwwMjoyMg0KNjIsNjMsS1NDLEVzJ2hhaWwgMiwiNSwzMDAga2ciLEdUTyxFcydoYWlsU2F0LFN1Y2Nlc3MsRjkgQjVCMTA0Ny4yLFN1Y2Nlc3MsMTUgTm92ZW1iZXIgMjAxOCwyMDo0Ng0KNjMsNjQsVkFGQixTU08tQSwifjQsMDAwIGtnIixTU08sU3BhY2VmbGlnaHQgSW5kdXN0cmllcyxTdWNjZXNzLEY5IEI1QjEwNDYuMyxTdWNjZXNzLDMgRGVjZW1iZXIgMjAxOCwxODozNDowNQ0KNjQsNjUsQ0NBRlMsU3BhY2VYIENSUy0xNiwiMiw1MDAga2ciLExFTyxOQVNBLCJTdWNjZXNzCiIsRjkgQjUsRmFpbHVyZSw1IERlY2VtYmVyIDIwMTgsMTg6MTYNCjY1LDY2LENDQUZTLEdQUyBJSUksIjQsNDAwIGtnIixNRU8sVVNBRixTdWNjZXNzLEY5IEI1LE5vIGF0dGVtcHQsMjMgRGVjZW1iZXIgMjAxOCwxMzo1MQ0KNjYsNjcsVkFGQixJcmlkaXVtIE5FWFQsIjksNjAwIGtnIixQb2xhcixJcmlkaXVtIENvbW11bmljYXRpb25zLCJTdWNjZXNzCiIsRjkgQjVCMTA0OS4yLFN1Y2Nlc3MsMTEgSmFudWFyeSAyMDE5LDE1OjMxDQo2Nyw2OCxDQ0FGUyxOdXNhbnRhcmEgU2F0dSwiNCw4NTAga2ciLEdUTyxQU04sIlN1Y2Nlc3MKIixGOSBCNUIxMDQ4LjMsU3VjY2VzcywyMiBGZWJydWFyeSAyMDE5LDAxOjQ1DQo2OCw2OSxLU0MsQ3JldyBEcmFnb24gRGVtby0xLCIxMiwwNTUga2ciLExFTyxOQVNBLCJTdWNjZXNzCiIsRjkgQjVbMjY4XSxTdWNjZXNzLDIgTWFyY2ggMjAxOSwwNzo0OQ0KNjksNzAsQ0NBRlMsU3BhY2VYIENSUy0xNywiMiw0OTUga2ciLExFTyxOQVNBLCJTdWNjZXNzCiIsRjkgQjUsU3VjY2Vzcyw0IE1heSAyMDE5LDA2OjQ4DQo3MCw3MSxDQ0FGUyxTdGFybGluaywiMTMsNjIwIGtnIixMRU8sU3BhY2VYLCJTdWNjZXNzCiIsRjkgQjVCMTA0OS4zLFN1Y2Nlc3MsMjQgTWF5IDIwMTksMDI6MzANCjcxLDcyLFZBRkIsUkFEQVJTQVQgQ29uc3RlbGxhdGlvbiwiNCwyMDAga2ciLFNTTyxDYW5hZGlhbiBTcGFjZSBBZ2VuY3ksIlN1Y2Nlc3MKIixGOSBCNUIxMDUxLjIsU3VjY2VzcywxMiBKdW5lIDIwMTksMTQ6MTcNCjcyLDczLENDQUZTLFNwYWNlWCBDUlMtMTgsIjIsMjY4IGtnIixMRU8sTkFTQSwiU3VjY2VzcwoiLEY5IEI1QjEwNTYuMixTdWNjZXNzLDI1IEp1bHkgMjAxOSwyMjowMQ0KNzMsNzQsQ0NBRlMsQU1PUy0xNywiNiw1MDAga2ciLEdUTyxTcGFjZWNvbSwiU3VjY2VzcwoiLEY5IEI1QjEwNDcuMyxObyBhdHRlbXB0LDYgQXVndXN0IDIwMTksMjM6MjMNCjc0LDc1LENDQUZTLFN0YXJsaW5rLCIxNSw2MDAga2ciLExFTyxTcGFjZVgsIlN1Y2Nlc3MKIixGOSBCNSxTdWNjZXNzLDExIE5vdmVtYmVyIDIwMTksMTQ6NTYNCjc1LDc2LENDQUZTLFNwYWNlWCBDUlMtMTksIjIsNjE3IGtnIixMRU8sTkFTQSwiU3VjY2VzcwoiLEY5IEI1LFN1Y2Nlc3MsNSBEZWNlbWJlciAyMDE5LDE3OjI5DQo3Niw3NyxDQ0FGUyxKQ1NhdC0xOCwiNiw5NTYga2ciLEdUTyxTa3kgUGVyZmVjdCBKU0FULCJTdWNjZXNzCiIsRjkgQjVCMTA1Ni4zLFN1Y2Nlc3MsMTcgRGVjZW1iZXIgMjAxOSwwMDoxMA0KNzcsNzgsQ0NBRlMsU3RhcmxpbmssIjE1LDYwMCBrZyIsTEVPLFNwYWNlWCwiU3VjY2VzcwoiLEY5IEI1LFN1Y2Nlc3MsNyBKYW51YXJ5IDIwMjAsMDI6MTk6MjENCjc4LDc5LEtTQyxDcmV3IERyYWdvbiBpbi1mbGlnaHQgYWJvcnQgdGVzdCwiMTIsMDUwIGtnIixTdWItb3JiaXRhbCxOQVNBLCJTdWNjZXNzCiIsRjkgQjUsIk5vIGF0dGVtcHQKIiwxOSBKYW51YXJ5IDIwMjAsMTU6MzANCjc5LDgwLENDQUZTLFN0YXJsaW5rLCIxNSw2MDAga2ciLExFTyxTcGFjZVgsIlN1Y2Nlc3MKIixGOSBCNSxTdWNjZXNzLDI5IEphbnVhcnkgMjAyMCwxNDowNw0KODAsODEsQ0NBRlMsU3RhcmxpbmssIjE1LDYwMCBrZyIsTEVPLFNwYWNlWCwiU3VjY2VzcwoiLEY5IEI1LEZhaWx1cmUsMTcgRmVicnVhcnkgMjAyMCwxNTowNQ0KODEsODIsQ0NBRlMsU3BhY2VYIENSUy0yMCwiMSw5Nzcga2ciLExFTyxOQVNBLCJTdWNjZXNzCiIsRjkgQjUsU3VjY2Vzcyw3IE1hcmNoIDIwMjAsMDQ6NTANCjgyLDgzLEtTQyxTdGFybGluaywiMTUsNjAwIGtnIixMRU8sU3BhY2VYLCJTdWNjZXNzCiIsRjkgQjUsRmFpbHVyZSwxOCBNYXJjaCAyMDIwLDEyOjE2DQo4Myw4NCxLU0MsU3RhcmxpbmssIjE1LDYwMCBrZyIsTEVPLFNwYWNlWCwiU3VjY2VzcwoiLEY5IEI1LFN1Y2Nlc3MsMjIgQXByaWwgMjAyMCwxOTozMA0KODQsODUsS1NDLENyZXcgRHJhZ29uIERlbW8tMiwiMTIsNTMwIGtnIixMRU8sTkFTQSwiU3VjY2VzcwoiLEY5IEI1LFN1Y2Nlc3MsMzAgTWF5IDIwMjAsMTk6MjINCjg1LDg2LENDQUZTLFN0YXJsaW5rLCIxNSw2MDAga2ciLExFTyxTcGFjZVgsIlN1Y2Nlc3MKIixGOSBCNSxTdWNjZXNzLDQgSnVuZSAyMDIwLDAxOjI1DQo4Niw4NyxDQ0FGUyxTdGFybGluaywiMTUsNDEwIGtnIixMRU8sU3BhY2VYLCJTdWNjZXNzCiIsRjkgQjUsU3VjY2VzcywxMyBKdW5lIDIwMjAsMDk6MjENCjg3LDg4LENDQUZTLEdQUyBJSUksIjQsMzExIGtnIixNRU8sVS5TLiBTcGFjZSBGb3JjZSwiU3VjY2VzcwoiLEY5IEI1LFN1Y2Nlc3MsMzAgSnVuZSAyMDIwLDIwOjEwOjQ2DQo4OCw4OSxDQ0FGUyxBTkFTSVMtSUksIjUsMDAw4oCTNiwwMDAga2ciLEdUTyxSZXB1YmxpYyBvZiBLb3JlYSBBcm15LCJTdWNjZXNzCiIsRjkgQjVCMTA1OC4yLFN1Y2Nlc3MsMjAgSnVseSAyMDIwLDIxOjMwDQo4OSw5MCxLU0MsU3RhcmxpbmssIjE0LDkzMiBrZyIsTEVPLFNwYWNlWCwiU3VjY2VzcwoiLEY5IEI1LFN1Y2Nlc3MsNyBBdWd1c3QgMjAyMCwwNToxMg0KOTAsOTEsQ0NBRlMsU3RhcmxpbmssIn4xNSw0NDAga2ciLExFTyxTcGFjZVgsIlN1Y2Nlc3MKIixGOSBCNUIxMDQ5LjYsU3VjY2VzcywxOCBBdWd1c3QgMjAyMCwxNDozMQ0KOTEsOTIsQ0NBRlMsU0FPQ09NIDFCLCIzLDEzMCBrZyIsU1NPLENPTkFFLCJTdWNjZXNzCiIsRjkgQjUsU3VjY2VzcywzMCBBdWd1c3QgMjAyMCwyMzoxOA0KOTIsOTMsS1NDLFN0YXJsaW5rLCIxNSw2MDAga2ciLExFTyxTcGFjZVgsIlN1Y2Nlc3MKIixGOSBCNUIxMDYwLjIsU3VjY2VzcywzIFNlcHRlbWJlciAyMDIwLDEyOjQ2OjE0DQo5Myw5NCxLU0MsU3RhcmxpbmssIjE1LDYwMCBrZyIsTEVPLFNwYWNlWCwiU3VjY2VzcwoiLEY5IEI1QjEwNTguMyxTdWNjZXNzLDYgT2N0b2JlciAyMDIwLDExOjI5OjM0DQo5NCw5NSxLU0MsU3RhcmxpbmssIjE1LDYwMCBrZyIsTEVPLFNwYWNlWCwiU3VjY2VzcwoiLEY5IEI1QjEwNTEuNixTdWNjZXNzLDE4IE9jdG9iZXIgMjAyMCwxMjoyNTo1Nw0KOTUsOTYsQ0NBRlMsU3RhcmxpbmssIjE1LDYwMCBrZyIsTEVPLFNwYWNlWCwiU3VjY2VzcwoiLEY5IEI1LFN1Y2Nlc3MsMjQgT2N0b2JlciAyMDIwLDE1OjMxOjM0DQo5Niw5NyxDQ0FGUyxHUFMgSUlJLCI0LDMxMSBrZyIsTUVPLFVTU0YsIlN1Y2Nlc3MKIixGOSBCNSxTdWNjZXNzLDUgTm92ZW1iZXIgMjAyMCwyMzoyNDoyMw0KOTcsOTgsS1NDLENyZXctMSwifjEyLDUwMCBrZyIsTEVPLE5BU0EsIlN1Y2Nlc3MKIixGOSBCNSxTdWNjZXNzLDE2IE5vdmVtYmVyIDIwMjAsMDA6MjcNCjk4LDk5LFZBRkIsU2VudGluZWwtNiBNaWNoYWVsIEZyZWlsaWNoIChKYXNvbi1DUyBBKSwiMSwxOTIga2ciLExFTyxOQVNBLCJTdWNjZXNzCiIsRjkgQjUsU3VjY2VzcywyMSBOb3ZlbWJlciAyMDIwLDE3OjE3OjA4DQo5OSwxMDAsQ0NBRlMsU3RhcmxpbmssIjE1LDYwMCBrZyIsTEVPLFNwYWNlWCwiU3VjY2VzcwoiLEY5IEI1IOKZuixTdWNjZXNzLDI1IE5vdmVtYmVyIDIwMjAsMDI6MTMNCjEwMCwxMDEsS1NDLFNwYWNlWCBDUlMtMjEsIjIsOTcyIGtnIixMRU8sTkFTQSwiU3VjY2VzcwoiLEY5IEI1IOKZuixTdWNjZXNzLDYgRGVjZW1iZXIgMjAyMCwxNjoxNzowOA0KMTAxLDEwMixDQ1NGUyxTWE0tNywiNywwMDAga2ciLEdUTyxTaXJpdXMgWE0sIlN1Y2Nlc3MKIixGOSBCNSDimbosU3VjY2VzcywxMyBEZWNlbWJlciAyMDIwLDE3OjMwOjAwDQoxMDIsMTAzLEtTQyxOUk9MLTEwOCxDLExFTyxOUk8sIlN1Y2Nlc3MKIixGOSBCNSDimbosU3VjY2VzcywxOSBEZWNlbWJlciAyMDIwLDE0OjAwOjAwDQoxMDMsMTA0LENDU0ZTLFTDvHJrc2F0IDVBLCIzLDUwMCBrZyIsR1RPLFTDvHJrc2F0LCJTdWNjZXNzCiIsRjkgQjUsU3VjY2Vzcyw4IEphbnVhcnkgMjAyMSwwMjoxNQ0KMTA0LDEwNSxLU0MsU3RhcmxpbmssIjE1LDYwMCBrZyIsTEVPLFNwYWNlWCwiU3VjY2VzcwoiLEY5IEI1QjEwNTEuOCxTdWNjZXNzLDIwIEphbnVhcnkgMjAyMSwxMzowMg0KMTA1LDEwNixDQ1NGUyxUcmFuc3BvcnRlci0xLCJ+NSwwMDAga2ciLFNTTywiVmFyaW91cwoiLCJTdWNjZXNzCiIsRjkgQjVCMTA1OC41LFN1Y2Nlc3MsMjQgSmFudWFyeSAyMDIxLDE1OjAwDQoxMDYsMTA3LENDU0ZTLFN0YXJsaW5rLCIxNSw2MDAga2ciLExFTyxTcGFjZVgsIlN1Y2Nlc3MKIixGOSBCNSDimbosU3VjY2Vzcyw0IEZlYnJ1YXJ5IDIwMjEsMDY6MTkNCjEwNywxMDgsQ0NTRlMsU3RhcmxpbmssIjE1LDYwMCBrZyIsTEVPLFNwYWNlWCwiU3VjY2VzcwoiLEY5IEI1IOKZuixGYWlsdXJlLDE2IEZlYnJ1YXJ5IDIwMjEsMDM6NTk6MzcNCjEwOCwxMDksS1NDLFN0YXJsaW5rLCIxNSw2MDAga2ciLExFTyxTcGFjZVgsIlN1Y2Nlc3MKIixGOSBCNSDimbosU3VjY2Vzcyw0IE1hcmNoIDIwMjEsMDg6MjQNCjEwOSwxMTAsQ0NTRlMsU3RhcmxpbmssIjE1LDYwMCBrZyIsTEVPLFNwYWNlWCwiU3VjY2VzcwoiLEY5IEI1IOKZuixTdWNjZXNzLDExIE1hcmNoIDIwMjEsMDg6MTM6MjkNCjExMCwxMTEsS1NDLFN0YXJsaW5rLCIxNSw2MDAga2ciLExFTyxTcGFjZVgsIlN1Y2Nlc3MKIixGOSBCNSDimbosU3VjY2VzcywxNCBNYXJjaCAyMDIxLDEwOjAxDQoxMTEsMTEyLENDU0ZTLFN0YXJsaW5rLCIxNSw2MDAga2ciLExFTyxTcGFjZVgsIlN1Y2Nlc3MKIixGOSBCNUIxMDYwLjYsU3VjY2VzcywyNCBNYXJjaCAyMDIxLDA4OjI4DQoxMTIsMTEzLENDU0ZTLFN0YXJsaW5rLCIxNSw2MDAga2ciLExFTyxTcGFjZVgsIlN1Y2Nlc3MKIixGOSBCNSDimbosU3VjY2Vzcyw3IEFwcmlsIDIwMjEsMTY6MzQNCjExMywxMTQsS1NDLENyZXctMiwifjEzLDAwMCBrZyIsTEVPLE5BU0EsIlN1Y2Nlc3MKIixGOSBCNUIxMDYxLjIsU3VjY2VzcywyMyBBcHJpbCAyMDIxLDk6NDkNCjExNCwxMTUsQ0NTRlMsU3RhcmxpbmssIjE1LDYwMCBrZyIsTEVPLFNwYWNlWCwiU3VjY2VzcwoiLEY5IEI1QjEwNjAuNyxTdWNjZXNzLDI5IEFwcmlsIDIwMjEsMDM6NDQNCjExNSwxMTYsS1NDLFN0YXJsaW5rLCIxNSw2MDAga2ciLExFTyxTcGFjZVgsIlN1Y2Nlc3MKIixGOSBCNUIxMDQ5LjksU3VjY2Vzcyw0IE1heSAyMDIxLDE5OjAxDQoxMTYsMTE3LENDU0ZTLFN0YXJsaW5rLCIxNSw2MDAga2ciLExFTyxTcGFjZVgsIlN1Y2Nlc3MKIixGOSBCNUIxMDUxLjEwLFN1Y2Nlc3MsOSBNYXkgMjAyMSwwNjo0Mg0KMTE3LDExOCxLU0MsU3RhcmxpbmssIn4xNCwwMDAga2ciLExFTyxTcGFjZVgsIlN1Y2Nlc3MKIixGOSBCNUIxMDU4LjgsU3VjY2VzcywxNSBNYXkgMjAyMSwyMjo1Ng0KMTE4LDExOSxDQ1NGUyxTdGFybGluaywiMTUsNjAwIGtnIixMRU8sU3BhY2VYLCJTdWNjZXNzCiIsRjkgQjVCMTA2My4yLFN1Y2Nlc3MsMjYgTWF5IDIwMjEsMTg6NTkNCjExOSwxMjAsS1NDLFNwYWNlWCBDUlMtMjIsIjMsMzI4IGtnIixMRU8sTkFTQSwiU3VjY2VzcwoiLEY5IEI1QjEwNjcuMSxTdWNjZXNzLDMgSnVuZSAyMDIxLDE3OjI5DQoxMjAsMTIxLENDU0ZTLFNYTS04LCI3LDAwMCBrZyIsR1RPLFNpcml1cyBYTSwiU3VjY2VzcwoiLEY5IEI1LFN1Y2Nlc3MsNiBKdW5lIDIwMjEsMDQ6MjYNCg==\" target=\"_blank\">Download CSV file</a>"
      ],
      "text/plain": [
       "<IPython.core.display.HTML object>"
      ]
     },
     "execution_count": 15,
     "metadata": {},
     "output_type": "execute_result"
    }
   ],
   "source": [
    "# Copied from discussion forum solution since the command listed above does not work.\n",
    "\n",
    "from IPython.display import HTML\n",
    "import base64,io\n",
    "\n",
    "def create_download_link(df, title = \"Download CSV file\", filename = \"/home/wsuser/work/dataset_part_1.csv\"): \n",
    " csv = df.to_csv()\n",
    " b64 = base64.b64encode(csv.encode())\n",
    " payload = b64.decode()\n",
    " html = '<a download=\"{filename}\" href=\"data:text/csv;base64,{payload}\" target=\"_blank\">{title}</a>'\n",
    " html = html.format(payload=payload,title=title,filename=filename)\n",
    " return HTML(html)\n",
    "\n",
    "create_download_link(df)"
   ]
  },
  {
   "cell_type": "markdown",
   "metadata": {},
   "source": [
    "## Authors\n"
   ]
  },
  {
   "cell_type": "markdown",
   "metadata": {},
   "source": [
    "<a href=\"https://www.linkedin.com/in/yan-luo-96288783/?utm_medium=Exinfluencer&utm_source=Exinfluencer&utm_content=000026UJ&utm_term=10006555&utm_id=NA-SkillsNetwork-Channel-SkillsNetworkCoursesIBMDS0321ENSkillsNetwork26802033-2022-01-01\">Yan Luo</a>\n"
   ]
  },
  {
   "cell_type": "markdown",
   "metadata": {},
   "source": [
    "<a href=\"https://www.linkedin.com/in/nayefaboutayoun/?utm_medium=Exinfluencer&utm_source=Exinfluencer&utm_content=000026UJ&utm_term=10006555&utm_id=NA-SkillsNetwork-Channel-SkillsNetworkCoursesIBMDS0321ENSkillsNetwork26802033-2022-01-01\">Nayef Abou Tayoun</a>\n"
   ]
  },
  {
   "cell_type": "markdown",
   "metadata": {},
   "source": [
    "## Change Log\n"
   ]
  },
  {
   "cell_type": "markdown",
   "metadata": {},
   "source": [
    "| Date (YYYY-MM-DD) | Version | Changed By | Change Description          |\n",
    "| ----------------- | ------- | ---------- | --------------------------- |\n",
    "| 2021-06-09        | 1.0     | Yan Luo    | Tasks updates               |\n",
    "| 2020-11-10        | 1.0     | Nayef      | Created the initial version |\n"
   ]
  },
  {
   "cell_type": "markdown",
   "metadata": {},
   "source": [
    "Copyright © 2021 IBM Corporation. All rights reserved.\n"
   ]
  }
 ],
 "metadata": {
  "kernelspec": {
   "display_name": "Python 3 (ipykernel)",
   "language": "python",
   "name": "python3"
  },
  "language_info": {
   "codemirror_mode": {
    "name": "ipython",
    "version": 3
   },
   "file_extension": ".py",
   "mimetype": "text/x-python",
   "name": "python",
   "nbconvert_exporter": "python",
   "pygments_lexer": "ipython3",
   "version": "3.9.12"
  }
 },
 "nbformat": 4,
 "nbformat_minor": 4
}
